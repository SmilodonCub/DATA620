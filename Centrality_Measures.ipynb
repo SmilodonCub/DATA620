{
 "cells": [
  {
   "cell_type": "markdown",
   "id": "4ebc83c9",
   "metadata": {},
   "source": [
    "<br>\n",
    "\n",
    "# Centrality Measures\n",
    "\n",
    "Bonnie Cooper, George Cruz Deschamps, Rob Hodde"
   ]
  },
  {
   "cell_type": "markdown",
   "id": "71b4f5ab",
   "metadata": {},
   "source": [
    "<br>\n",
    "\n",
    "## Assignment Information\n",
    "\n",
    "Centrality measures can be used to predict (positive or negative) outcomes for a node.\n",
    "\n",
    "Your task in this week’s assignment is to identify an interesting set of network data that is available on the web (either through web scraping or web APIs) that could be used for analyzing and comparing centrality measures across nodes.  As an additional constraint, there should be at least one categorical variable available for each node (such as “Male” or “Female”; “Republican”, “Democrat,” or “Undecided”, etc.)\n",
    "\n",
    "In addition to identifying your data source, you should create a high level plan that describes how you would load the data for analysis, and describe a hypothetical outcome that could be predicted from comparing degree centrality across categorical groups. \n",
    "\n",
    "For this week’s assignment, you are not required to actually load or analyze the data.  Please see also Project 1 below.\n",
    "\n",
    "You may work in a small group on the assignment.   You should post your document to GitHub by end of day on Sunday."
   ]
  }
 ],
 "metadata": {
  "kernelspec": {
   "display_name": "Python 3 (ipykernel)",
   "language": "python",
   "name": "python3"
  },
  "language_info": {
   "codemirror_mode": {
    "name": "ipython",
    "version": 3
   },
   "file_extension": ".py",
   "mimetype": "text/x-python",
   "name": "python",
   "nbconvert_exporter": "python",
   "pygments_lexer": "ipython3",
   "version": "3.7.7"
  }
 },
 "nbformat": 4,
 "nbformat_minor": 5
}

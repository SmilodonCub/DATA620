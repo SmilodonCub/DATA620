{
 "cells": [
  {
   "cell_type": "markdown",
   "id": "d96b8ef8",
   "metadata": {
    "slideshow": {
     "slide_type": "slide"
    }
   },
   "source": [
    "<br>\n",
    "\n",
    "# The Elon Musk Twitter Saga\n",
    "\n",
    "### Final Project DATA620\n",
    "### Group (lucky) #7: Bonnie Cooper, George Cruz Deschamps, Rob Hodde"
   ]
  },
  {
   "cell_type": "markdown",
   "id": "ae320c7d",
   "metadata": {
    "slideshow": {
     "slide_type": "slide"
    }
   },
   "source": [
    "## Introduction\n",
    "\n",
    "* **Our Project** collect a corpus of tweets related to Elon Musk and his recet acquisition of Twitter and perform a series of Natural Language Processing and Graph network analyses. \n",
    "\n",
    "* **Goal** quantify aspects of Twitter conversations. Can we find insights from Twitter activity that is informative of the public's reaction(s) to the news of Twitter's acquision by Musk?"
   ]
  },
  {
   "cell_type": "markdown",
   "id": "8b4fe9e2",
   "metadata": {
    "slideshow": {
     "slide_type": "slide"
    }
   },
   "source": [
    "## Talk Agenda\n",
    "\n",
    "* Collecting Relevant Twitter Data\n",
    "* Elon Musk Twitter Graph Network\n",
    "* Sentiment Analysis of Elon Musk Tweets\n",
    "* Twitter Topic Clustering"
   ]
  },
  {
   "cell_type": "markdown",
   "id": "3ca1d9d4",
   "metadata": {
    "slideshow": {
     "slide_type": "fragment"
    }
   },
   "source": [
    "We will share a Jupyter notebook for each talking point"
   ]
  },
  {
   "cell_type": "markdown",
   "id": "54b344e0",
   "metadata": {
    "slideshow": {
     "slide_type": "slide"
    }
   },
   "source": [
    "## Collecting Relevant Twitter Data\n",
    "\n",
    "* use the python library `snscrape`\n",
    "* tweet query phrases `elon musk` & `elon musk twitter`\n",
    "* timeframe: April 1st 2022 $\\rightarrow$ May 5th 2022"
   ]
  },
  {
   "cell_type": "markdown",
   "id": "5c09913f",
   "metadata": {
    "slideshow": {
     "slide_type": "fragment"
    }
   },
   "source": [
    "for data collection details: [Snscrape Twitter Notebook](https://github.com/SmilodonCub/DATA620/blob/master/Final_Project/Elongate_snscrape.ipynb)"
   ]
  },
  {
   "cell_type": "markdown",
   "id": "96efe522",
   "metadata": {
    "slideshow": {
     "slide_type": "slide"
    }
   },
   "source": [
    "## Elon Musk Twitter Graph Network\n",
    "\n",
    "* utilize twitter 'reply' and 'mention' metadata to construct tweet graph networks\n",
    "* visualize network & find connectivity properties of the user ndes\n",
    "* Use the graph network to identify important twitter users"
   ]
  },
  {
   "cell_type": "markdown",
   "id": "eda062da",
   "metadata": {
    "slideshow": {
     "slide_type": "fragment"
    }
   },
   "source": [
    "for Twitter graph network details: [Twitter Interactin Networks](https://github.com/SmilodonCub/DATA620/blob/master/Final_Project/Elongate_Twitter_Interaction_Networks.ipynb)"
   ]
  },
  {
   "cell_type": "markdown",
   "id": "2550f110",
   "metadata": {
    "slideshow": {
     "slide_type": "slide"
    }
   },
   "source": [
    "## Sentiment Analysis of Elon Musk Tweets\n",
    "\n",
    "* perform sentiment classification on tweet text to assign negative, neutral or positive valences\n",
    "* compare the distributions of sentiment across classes for: \n",
    "    - the generalized Elon Musk tweet data: 'elon musk'\n",
    "    - the the data set that focuses on Elon Musk's Twitter acquisition: 'elon musk twitter'"
   ]
  },
  {
   "cell_type": "markdown",
   "id": "f5b455a6",
   "metadata": {
    "slideshow": {
     "slide_type": "fragment"
    }
   },
   "source": [
    "for Sentiment Analysis details: [Twitter Sentiment Analysis](https://github.com/SmilodonCub/DATA620/blob/master/Final_Project/Elongate_Sentiment_Analysis.ipynb)"
   ]
  },
  {
   "cell_type": "markdown",
   "id": "ed60da9b",
   "metadata": {
    "slideshow": {
     "slide_type": "slide"
    }
   },
   "source": [
    "## Twitter Topic Clustering\n",
    "\n",
    "* perform a topic cluster analysis using the `BERTopic` python library\n",
    "* use twitter metadata to identify infuential twitter users\n",
    "* how do topic cluster compare between different types of Twitter users"
   ]
  },
  {
   "cell_type": "markdown",
   "id": "09b6cd4a",
   "metadata": {
    "slideshow": {
     "slide_type": "fragment"
    }
   },
   "source": [
    "for Topic Cluster Analysis details: [Topic Modeling](https://github.com/LovinSpoonful/620_Final_Project/blob/main/Topic%20Model.ipynb)"
   ]
  },
  {
   "cell_type": "markdown",
   "id": "2dc43e14",
   "metadata": {
    "slideshow": {
     "slide_type": "slide"
    }
   },
   "source": [
    "## Main Findings\n",
    "\n",
    "* `snscrape` can be used to scrape a substantial corpus of Twitter data\n",
    "* tweet metadata can be used to build graph networks of Twitter users\n",
    "* Sentiment Analysis yieds nuanced insights into the public's reception of events\n",
    "* Topic cluster analysis can break down a body of Twitter data into smaller conversations"
   ]
  },
  {
   "cell_type": "markdown",
   "id": "f88ce486",
   "metadata": {
    "slideshow": {
     "slide_type": "slide"
    }
   },
   "source": [
    "<br><br><br>\n",
    "\n",
    "## Thank You for Your Time & Attention"
   ]
  }
 ],
 "metadata": {
  "celltoolbar": "Slideshow",
  "kernelspec": {
   "display_name": "Python 3 (ipykernel)",
   "language": "python",
   "name": "python3"
  },
  "language_info": {
   "codemirror_mode": {
    "name": "ipython",
    "version": 3
   },
   "file_extension": ".py",
   "mimetype": "text/x-python",
   "name": "python",
   "nbconvert_exporter": "python",
   "pygments_lexer": "ipython3",
   "version": "3.7.7"
  }
 },
 "nbformat": 4,
 "nbformat_minor": 5
}

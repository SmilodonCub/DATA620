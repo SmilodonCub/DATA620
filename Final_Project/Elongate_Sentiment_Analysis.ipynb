{
 "cells": [
  {
   "cell_type": "code",
   "execution_count": 15,
   "metadata": {
    "scrolled": true
   },
   "outputs": [
    {
     "name": "stdout",
     "output_type": "stream",
     "text": [
      "Requirement already satisfied: pandas in c:\\users\\georg\\appdata\\local\\packages\\pythonsoftwarefoundation.python.3.8_qbz5n2kfra8p0\\localcache\\local-packages\\python38\\site-packages (1.4.1)\n",
      "Collecting pandas\n",
      "  Downloading pandas-1.4.2-cp38-cp38-win_amd64.whl (10.6 MB)\n",
      "     -------------------------------------- 10.6/10.6 MB 456.8 kB/s eta 0:00:00\n",
      "Requirement already satisfied: pytz>=2020.1 in c:\\users\\georg\\appdata\\local\\packages\\pythonsoftwarefoundation.python.3.8_qbz5n2kfra8p0\\localcache\\local-packages\\python38\\site-packages (from pandas) (2021.1)\n",
      "Requirement already satisfied: numpy>=1.18.5 in c:\\users\\georg\\appdata\\local\\packages\\pythonsoftwarefoundation.python.3.8_qbz5n2kfra8p0\\localcache\\local-packages\\python38\\site-packages (from pandas) (1.20.1)\n",
      "Requirement already satisfied: python-dateutil>=2.8.1 in c:\\users\\georg\\appdata\\local\\packages\\pythonsoftwarefoundation.python.3.8_qbz5n2kfra8p0\\localcache\\local-packages\\python38\\site-packages (from pandas) (2.8.1)\n",
      "Requirement already satisfied: six>=1.5 in c:\\users\\georg\\appdata\\local\\packages\\pythonsoftwarefoundation.python.3.8_qbz5n2kfra8p0\\localcache\\local-packages\\python38\\site-packages (from python-dateutil>=2.8.1->pandas) (1.15.0)\n",
      "Installing collected packages: pandas\n",
      "  Attempting uninstall: pandas\n",
      "    Found existing installation: pandas 1.4.1\n",
      "    Uninstalling pandas-1.4.1:\n",
      "      Successfully uninstalled pandas-1.4.1\n",
      "Successfully installed pandas-1.4.2\n"
     ]
    }
   ],
   "source": [
    "import sys\n",
    "#!{sys.executable} -m pip install wordcloud\n",
    "#!{sys.executable} -m pip install pysentimiento\n",
    "!{sys.executable} -m pip install --upgrade pandas"
   ]
  },
  {
   "cell_type": "markdown",
   "metadata": {},
   "source": [
    "### Import Libraries"
   ]
  },
  {
   "cell_type": "code",
   "execution_count": 3,
   "metadata": {},
   "outputs": [],
   "source": [
    "\n",
    "# utilities\n",
    "import re\n",
    "import numpy as np\n",
    "import pandas as pd\n",
    "import pickle \n",
    "# plotting\n",
    "import seaborn as sns\n",
    "from wordcloud import WordCloud\n",
    "import matplotlib.pyplot as plt\n",
    "# nltk\n",
    "from nltk.stem import WordNetLemmatizer\n",
    "# sklearn\n",
    "from sklearn.svm import LinearSVC\n",
    "from sklearn.naive_bayes import BernoulliNB\n",
    "from sklearn.linear_model import LogisticRegression\n",
    "from sklearn.model_selection import train_test_split\n",
    "from sklearn.feature_extraction.text import TfidfVectorizer\n",
    "from sklearn.metrics import confusion_matrix, classification_report\n",
    "# To read faster the large data \n",
    "from dask import dataframe as df1\n"
   ]
  },
  {
   "cell_type": "markdown",
   "metadata": {},
   "source": [
    "### Read Data"
   ]
  },
  {
   "cell_type": "code",
   "execution_count": 12,
   "metadata": {},
   "outputs": [
    {
     "data": {
      "text/html": [
       "<div>\n",
       "<style scoped>\n",
       "    .dataframe tbody tr th:only-of-type {\n",
       "        vertical-align: middle;\n",
       "    }\n",
       "\n",
       "    .dataframe tbody tr th {\n",
       "        vertical-align: top;\n",
       "    }\n",
       "\n",
       "    .dataframe thead th {\n",
       "        text-align: right;\n",
       "    }\n",
       "</style>\n",
       "<table border=\"1\" class=\"dataframe\">\n",
       "  <thead>\n",
       "    <tr style=\"text-align: right;\">\n",
       "      <th></th>\n",
       "      <th>date</th>\n",
       "      <th>id</th>\n",
       "      <th>content</th>\n",
       "      <th>lang</th>\n",
       "      <th>replyCount</th>\n",
       "      <th>retweetCount</th>\n",
       "      <th>likeCount</th>\n",
       "      <th>inReplyToTweetId</th>\n",
       "      <th>inReplyToUser</th>\n",
       "      <th>mentionedUsers</th>\n",
       "    </tr>\n",
       "  </thead>\n",
       "  <tbody>\n",
       "    <tr>\n",
       "      <th>419795</th>\n",
       "      <td>2022-05-03 05:37:25+00:00</td>\n",
       "      <td>1521363275576971264</td>\n",
       "      <td>@Kristennetten @elonmusk @etnow His momma look...</td>\n",
       "      <td>en</td>\n",
       "      <td>0</td>\n",
       "      <td>0</td>\n",
       "      <td>0</td>\n",
       "      <td>1.5212955383766917e+18</td>\n",
       "      <td>{'_type': 'snscrape.modules.twitter.User', 'us...</td>\n",
       "      <td>[{'_type': 'snscrape.modules.twitter.User', 'u...</td>\n",
       "    </tr>\n",
       "    <tr>\n",
       "      <th>69626</th>\n",
       "      <td>2022-05-04 16:24:47+00:00</td>\n",
       "      <td>1521888579416301570</td>\n",
       "      <td>@elonmusk Advice taken. Thank you</td>\n",
       "      <td>en</td>\n",
       "      <td>0</td>\n",
       "      <td>0</td>\n",
       "      <td>0</td>\n",
       "      <td>1.5206500368659497e+18</td>\n",
       "      <td>{'_type': 'snscrape.modules.twitter.User', 'us...</td>\n",
       "      <td>[{'_type': 'snscrape.modules.twitter.User', 'u...</td>\n",
       "    </tr>\n",
       "    <tr>\n",
       "      <th>35602</th>\n",
       "      <td>2022-05-04 19:48:21+00:00</td>\n",
       "      <td>1521939809643556864</td>\n",
       "      <td>@Caper_Creations @elonmusk It was normal when ...</td>\n",
       "      <td>en</td>\n",
       "      <td>1</td>\n",
       "      <td>0</td>\n",
       "      <td>1</td>\n",
       "      <td>1.521515653068464e+18</td>\n",
       "      <td>{'_type': 'snscrape.modules.twitter.User', 'us...</td>\n",
       "      <td>[{'_type': 'snscrape.modules.twitter.User', 'u...</td>\n",
       "    </tr>\n",
       "    <tr>\n",
       "      <th>102912</th>\n",
       "      <td>2022-05-04 13:42:50+00:00</td>\n",
       "      <td>1521847824035557376</td>\n",
       "      <td>@bhensel2009 @HotSauc95211743 @BorislavKostad1...</td>\n",
       "      <td>en</td>\n",
       "      <td>1</td>\n",
       "      <td>0</td>\n",
       "      <td>1</td>\n",
       "      <td>1.5218404826613268e+18</td>\n",
       "      <td>{'_type': 'snscrape.modules.twitter.User', 'us...</td>\n",
       "      <td>[{'_type': 'snscrape.modules.twitter.User', 'u...</td>\n",
       "    </tr>\n",
       "    <tr>\n",
       "      <th>28513</th>\n",
       "      <td>2022-05-04 20:37:47+00:00</td>\n",
       "      <td>1521952251752984576</td>\n",
       "      <td>Biden should stop the free c19 home test to th...</td>\n",
       "      <td>en</td>\n",
       "      <td>0</td>\n",
       "      <td>0</td>\n",
       "      <td>0</td>\n",
       "      <td>NaN</td>\n",
       "      <td>NaN</td>\n",
       "      <td>[{'_type': 'snscrape.modules.twitter.User', 'u...</td>\n",
       "    </tr>\n",
       "  </tbody>\n",
       "</table>\n",
       "</div>"
      ],
      "text/plain": [
       "                             date                   id  \\\n",
       "419795  2022-05-03 05:37:25+00:00  1521363275576971264   \n",
       "69626   2022-05-04 16:24:47+00:00  1521888579416301570   \n",
       "35602   2022-05-04 19:48:21+00:00  1521939809643556864   \n",
       "102912  2022-05-04 13:42:50+00:00  1521847824035557376   \n",
       "28513   2022-05-04 20:37:47+00:00  1521952251752984576   \n",
       "\n",
       "                                                  content lang replyCount  \\\n",
       "419795  @Kristennetten @elonmusk @etnow His momma look...   en          0   \n",
       "69626                   @elonmusk Advice taken. Thank you   en          0   \n",
       "35602   @Caper_Creations @elonmusk It was normal when ...   en          1   \n",
       "102912  @bhensel2009 @HotSauc95211743 @BorislavKostad1...   en          1   \n",
       "28513   Biden should stop the free c19 home test to th...   en          0   \n",
       "\n",
       "       retweetCount likeCount        inReplyToTweetId  \\\n",
       "419795            0         0  1.5212955383766917e+18   \n",
       "69626             0         0  1.5206500368659497e+18   \n",
       "35602             0         1   1.521515653068464e+18   \n",
       "102912            0         1  1.5218404826613268e+18   \n",
       "28513             0         0                     NaN   \n",
       "\n",
       "                                            inReplyToUser  \\\n",
       "419795  {'_type': 'snscrape.modules.twitter.User', 'us...   \n",
       "69626   {'_type': 'snscrape.modules.twitter.User', 'us...   \n",
       "35602   {'_type': 'snscrape.modules.twitter.User', 'us...   \n",
       "102912  {'_type': 'snscrape.modules.twitter.User', 'us...   \n",
       "28513                                                 NaN   \n",
       "\n",
       "                                           mentionedUsers  \n",
       "419795  [{'_type': 'snscrape.modules.twitter.User', 'u...  \n",
       "69626   [{'_type': 'snscrape.modules.twitter.User', 'u...  \n",
       "35602   [{'_type': 'snscrape.modules.twitter.User', 'u...  \n",
       "102912  [{'_type': 'snscrape.modules.twitter.User', 'u...  \n",
       "28513   [{'_type': 'snscrape.modules.twitter.User', 'u...  "
      ]
     },
     "execution_count": 12,
     "metadata": {},
     "output_type": "execute_result"
    }
   ],
   "source": [
    "# Importing the dataset\n",
    "elongate_tweets_file = 'raw_data/elongate_tweets.csv'\n",
    "regular_tweets_file = 'raw_data/elonmusktwitter_tweets.csv'\n",
    "chunk = pd.read_csv(elongate_tweets_file, sep=',', error_bad_lines=False, index_col=False, dtype='unicode', chunksize=1000)\n",
    "elongate_df = pd.concat(chunk)\n",
    "\n",
    "chunk = pd.read_csv(regular_tweets_file, sep=',', error_bad_lines=False, index_col=False, dtype='unicode', chunksize=1000)\n",
    "regular_df = pd.concat(chunk)\n",
    "\n",
    "elongate_df.sample(5)\n"
   ]
  },
  {
   "cell_type": "code",
   "execution_count": 8,
   "metadata": {},
   "outputs": [
    {
     "name": "stdout",
     "output_type": "stream",
     "text": [
      "3597810\n",
      "3597810\n"
     ]
    },
    {
     "data": {
      "text/html": [
       "<div>\n",
       "<style scoped>\n",
       "    .dataframe tbody tr th:only-of-type {\n",
       "        vertical-align: middle;\n",
       "    }\n",
       "\n",
       "    .dataframe tbody tr th {\n",
       "        vertical-align: top;\n",
       "    }\n",
       "\n",
       "    .dataframe thead th {\n",
       "        text-align: right;\n",
       "    }\n",
       "</style>\n",
       "<table border=\"1\" class=\"dataframe\">\n",
       "  <thead>\n",
       "    <tr style=\"text-align: right;\">\n",
       "      <th></th>\n",
       "      <th>date</th>\n",
       "      <th>id</th>\n",
       "      <th>content</th>\n",
       "      <th>lang</th>\n",
       "      <th>replyCount</th>\n",
       "      <th>retweetCount</th>\n",
       "      <th>likeCount</th>\n",
       "      <th>inReplyToTweetId</th>\n",
       "      <th>inReplyToUser</th>\n",
       "      <th>mentionedUsers</th>\n",
       "    </tr>\n",
       "  </thead>\n",
       "  <tbody>\n",
       "    <tr>\n",
       "      <th>0</th>\n",
       "      <td>2022-05-04 23:59:59+00:00</td>\n",
       "      <td>1522003135794929665</td>\n",
       "      <td>@elonmusk @bevedoni It would make us happy if ...</td>\n",
       "      <td>en</td>\n",
       "      <td>0</td>\n",
       "      <td>0</td>\n",
       "      <td>0</td>\n",
       "      <td>1.5219985677574267e+18</td>\n",
       "      <td>{'_type': 'snscrape.modules.twitter.User', 'us...</td>\n",
       "      <td>[{'_type': 'snscrape.modules.twitter.User', 'u...</td>\n",
       "    </tr>\n",
       "    <tr>\n",
       "      <th>1</th>\n",
       "      <td>2022-05-04 23:59:59+00:00</td>\n",
       "      <td>1522003134612127746</td>\n",
       "      <td>@Crypto_Highland @RatsoLicksy @CliffToken @elo...</td>\n",
       "      <td>en</td>\n",
       "      <td>1</td>\n",
       "      <td>0</td>\n",
       "      <td>2</td>\n",
       "      <td>1.522002058949415e+18</td>\n",
       "      <td>{'_type': 'snscrape.modules.twitter.User', 'us...</td>\n",
       "      <td>[{'_type': 'snscrape.modules.twitter.User', 'u...</td>\n",
       "    </tr>\n",
       "    <tr>\n",
       "      <th>2</th>\n",
       "      <td>2022-05-04 23:59:59+00:00</td>\n",
       "      <td>1522003134557663235</td>\n",
       "      <td>@elonmusk @bevedoni Word !</td>\n",
       "      <td>en</td>\n",
       "      <td>0</td>\n",
       "      <td>0</td>\n",
       "      <td>0</td>\n",
       "      <td>1.5219985677574267e+18</td>\n",
       "      <td>{'_type': 'snscrape.modules.twitter.User', 'us...</td>\n",
       "      <td>[{'_type': 'snscrape.modules.twitter.User', 'u...</td>\n",
       "    </tr>\n",
       "    <tr>\n",
       "      <th>3</th>\n",
       "      <td>2022-05-04 23:59:59+00:00</td>\n",
       "      <td>1522003134238715910</td>\n",
       "      <td>@teslaownersSV @elonmusk He was joking and her...</td>\n",
       "      <td>en</td>\n",
       "      <td>0</td>\n",
       "      <td>0</td>\n",
       "      <td>0</td>\n",
       "      <td>1.5217191082528236e+18</td>\n",
       "      <td>{'_type': 'snscrape.modules.twitter.User', 'us...</td>\n",
       "      <td>[{'_type': 'snscrape.modules.twitter.User', 'u...</td>\n",
       "    </tr>\n",
       "    <tr>\n",
       "      <th>4</th>\n",
       "      <td>2022-05-04 23:59:58+00:00</td>\n",
       "      <td>1522003132162658304</td>\n",
       "      <td>@elonmusk @bevedoni It’s very true!</td>\n",
       "      <td>en</td>\n",
       "      <td>0</td>\n",
       "      <td>0</td>\n",
       "      <td>0</td>\n",
       "      <td>1.5219985677574267e+18</td>\n",
       "      <td>{'_type': 'snscrape.modules.twitter.User', 'us...</td>\n",
       "      <td>[{'_type': 'snscrape.modules.twitter.User', 'u...</td>\n",
       "    </tr>\n",
       "  </tbody>\n",
       "</table>\n",
       "</div>"
      ],
      "text/plain": [
       "                        date                   id  \\\n",
       "0  2022-05-04 23:59:59+00:00  1522003135794929665   \n",
       "1  2022-05-04 23:59:59+00:00  1522003134612127746   \n",
       "2  2022-05-04 23:59:59+00:00  1522003134557663235   \n",
       "3  2022-05-04 23:59:59+00:00  1522003134238715910   \n",
       "4  2022-05-04 23:59:58+00:00  1522003132162658304   \n",
       "\n",
       "                                             content lang replyCount  \\\n",
       "0  @elonmusk @bevedoni It would make us happy if ...   en          0   \n",
       "1  @Crypto_Highland @RatsoLicksy @CliffToken @elo...   en          1   \n",
       "2                         @elonmusk @bevedoni Word !   en          0   \n",
       "3  @teslaownersSV @elonmusk He was joking and her...   en          0   \n",
       "4                @elonmusk @bevedoni It’s very true!   en          0   \n",
       "\n",
       "  retweetCount likeCount        inReplyToTweetId  \\\n",
       "0            0         0  1.5219985677574267e+18   \n",
       "1            0         2   1.522002058949415e+18   \n",
       "2            0         0  1.5219985677574267e+18   \n",
       "3            0         0  1.5217191082528236e+18   \n",
       "4            0         0  1.5219985677574267e+18   \n",
       "\n",
       "                                       inReplyToUser  \\\n",
       "0  {'_type': 'snscrape.modules.twitter.User', 'us...   \n",
       "1  {'_type': 'snscrape.modules.twitter.User', 'us...   \n",
       "2  {'_type': 'snscrape.modules.twitter.User', 'us...   \n",
       "3  {'_type': 'snscrape.modules.twitter.User', 'us...   \n",
       "4  {'_type': 'snscrape.modules.twitter.User', 'us...   \n",
       "\n",
       "                                      mentionedUsers  \n",
       "0  [{'_type': 'snscrape.modules.twitter.User', 'u...  \n",
       "1  [{'_type': 'snscrape.modules.twitter.User', 'u...  \n",
       "2  [{'_type': 'snscrape.modules.twitter.User', 'u...  \n",
       "3  [{'_type': 'snscrape.modules.twitter.User', 'u...  \n",
       "4  [{'_type': 'snscrape.modules.twitter.User', 'u...  "
      ]
     },
     "execution_count": 8,
     "metadata": {},
     "output_type": "execute_result"
    }
   ],
   "source": [
    "print(elongate_df.size)\n",
    "elongate_filter = (elongate_df['lang'] == 'en')\n",
    "\n",
    "elongate_df = elongate_df[elongate_filter]\n",
    "print(elongate_df.size)\n",
    "elongate_df.head(5)"
   ]
  },
  {
   "cell_type": "code",
   "execution_count": 10,
   "metadata": {},
   "outputs": [],
   "source": [
    "from pysentimiento import create_analyzer\n",
    "analyzer = create_analyzer(task=\"sentiment\", lang=\"en\")\n",
    "\n"
   ]
  },
  {
   "cell_type": "code",
   "execution_count": 1,
   "metadata": {},
   "outputs": [
    {
     "data": {
      "text/plain": [
       "'1.4.2'"
      ]
     },
     "execution_count": 1,
     "metadata": {},
     "output_type": "execute_result"
    }
   ],
   "source": [
    "import pandas as pd\n",
    "pd.__version__\n",
    "#%pip install pandas==1.4.1"
   ]
  },
  {
   "cell_type": "code",
   "execution_count": 4,
   "metadata": {},
   "outputs": [
    {
     "data": {
      "text/plain": [
       "22132290"
      ]
     },
     "execution_count": 4,
     "metadata": {},
     "output_type": "execute_result"
    }
   ],
   "source": [
    "f3 = open('raw_data/elonmusktwitter_tweets_df.obj', 'rb')\n",
    "df3 = pickle.load(f3)\n",
    "df3.size"
   ]
  },
  {
   "cell_type": "code",
   "execution_count": 28,
   "metadata": {},
   "outputs": [
    {
     "data": {
      "text/plain": [
       "['NEG', 'NEG', 'NEG', 'NEU', 'NEG', 'NEG', 'NEG', 'NEG', 'POS', 'NEU']"
      ]
     },
     "execution_count": 28,
     "metadata": {},
     "output_type": "execute_result"
    }
   ],
   "source": [
    "def analyze(content):\n",
    "  res = analyzer.predict(content)\n",
    "  return res.output\n",
    "\n",
    "df_sample = df2.sample(n=1000)\n",
    "df_sentiment = [analyze(x) for x in df_sample['content']]\n",
    "df_sentiment[:10]"
   ]
  },
  {
   "cell_type": "code",
   "execution_count": 29,
   "metadata": {},
   "outputs": [
    {
     "data": {
      "text/plain": [
       "17753355"
      ]
     },
     "execution_count": 29,
     "metadata": {},
     "output_type": "execute_result"
    }
   ],
   "source": [
    "df2.size"
   ]
  }
 ],
 "metadata": {
  "interpreter": {
   "hash": "0e6d17075be2fbaa7012017c8169a2c3a7e887df5c5f24f67e4ae0adee237c23"
  },
  "kernelspec": {
   "display_name": "Python 3.8.10 64-bit (windows store)",
   "language": "python",
   "name": "python3"
  },
  "language_info": {
   "codemirror_mode": {
    "name": "ipython",
    "version": 3
   },
   "file_extension": ".py",
   "mimetype": "text/x-python",
   "name": "python",
   "nbconvert_exporter": "python",
   "pygments_lexer": "ipython3",
   "version": "3.8.10"
  }
 },
 "nbformat": 4,
 "nbformat_minor": 4
}

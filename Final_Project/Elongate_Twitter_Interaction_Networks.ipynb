{
 "cells": [
  {
   "cell_type": "markdown",
   "id": "31e1bb91",
   "metadata": {},
   "source": [
    "<br>\n",
    "\n",
    "# Elongate Twitter Interaction Networks\n",
    "\n"
   ]
  },
  {
   "cell_type": "markdown",
   "id": "f0f74a8e",
   "metadata": {},
   "source": [
    "<br>\n",
    "\n",
    "## Environment setup & Data Import"
   ]
  },
  {
   "cell_type": "code",
   "execution_count": 1,
   "id": "a052caa9",
   "metadata": {},
   "outputs": [],
   "source": [
    "# dependencies\n",
    "import pandas as pd\n",
    "import networkx as nx\n",
    "import pickle\n",
    "import numpy as np\n",
    "import matplotlib.pyplot as plt"
   ]
  },
  {
   "cell_type": "code",
   "execution_count": 2,
   "id": "b559ed6a",
   "metadata": {},
   "outputs": [
    {
     "name": "stdout",
     "output_type": "stream",
     "text": [
      "1.4.2\n"
     ]
    }
   ],
   "source": [
    "print(pd.__version__)"
   ]
  },
  {
   "cell_type": "code",
   "execution_count": 3,
   "id": "f7fa9d67",
   "metadata": {},
   "outputs": [
    {
     "name": "stdout",
     "output_type": "stream",
     "text": [
      "4.0\n"
     ]
    }
   ],
   "source": [
    "print(pickle.format_version)"
   ]
  },
  {
   "cell_type": "code",
   "execution_count": 4,
   "id": "ad6a6e64",
   "metadata": {},
   "outputs": [],
   "source": [
    "# importing twitter data\n",
    "file = open(\"elonmusktwitter_tweets_df.obj\",'rb')\n",
    "df = pickle.load(file)\n",
    "file.close()"
   ]
  },
  {
   "cell_type": "code",
   "execution_count": 5,
   "id": "0a4366d2",
   "metadata": {
    "scrolled": false
   },
   "outputs": [
    {
     "name": "stdout",
     "output_type": "stream",
     "text": [
      "(1475486, 15)\n",
      "<class 'pandas.core.frame.DataFrame'>\n",
      "RangeIndex: 1475486 entries, 0 to 1475485\n",
      "Data columns (total 15 columns):\n",
      " #   Column               Non-Null Count    Dtype              \n",
      "---  ------               --------------    -----              \n",
      " 0   date                 1475486 non-null  datetime64[ns, UTC]\n",
      " 1   id                   1475486 non-null  object             \n",
      " 2   user_ID              1475486 non-null  object             \n",
      " 3   user_name            1475486 non-null  object             \n",
      " 4   user_location        1475486 non-null  object             \n",
      " 5   content              1475486 non-null  object             \n",
      " 6   lang                 1475486 non-null  object             \n",
      " 7   replyCount           1475486 non-null  object             \n",
      " 8   retweetCount         1475486 non-null  object             \n",
      " 9   likeCount            1475486 non-null  object             \n",
      " 10  inReplyToTweetId     673539 non-null   object             \n",
      " 11  inReplyToUser_ID     1475486 non-null  object             \n",
      " 12  inReplyToUser_name   1475486 non-null  object             \n",
      " 13  mentionedUsers_ID    1475486 non-null  object             \n",
      " 14  mentionedUsers_name  1475486 non-null  object             \n",
      "dtypes: datetime64[ns, UTC](1), object(14)\n",
      "memory usage: 168.9+ MB\n"
     ]
    }
   ],
   "source": [
    "# check structure\n",
    "# reformat 'date' from string the datetime type\n",
    "df['date'] =  pd.to_datetime(df['date'])\n",
    "print( df.shape )\n",
    "df.info()"
   ]
  },
  {
   "cell_type": "code",
   "execution_count": 6,
   "id": "7a43430b",
   "metadata": {},
   "outputs": [
    {
     "data": {
      "text/html": [
       "<div>\n",
       "<style scoped>\n",
       "    .dataframe tbody tr th:only-of-type {\n",
       "        vertical-align: middle;\n",
       "    }\n",
       "\n",
       "    .dataframe tbody tr th {\n",
       "        vertical-align: top;\n",
       "    }\n",
       "\n",
       "    .dataframe thead th {\n",
       "        text-align: right;\n",
       "    }\n",
       "</style>\n",
       "<table border=\"1\" class=\"dataframe\">\n",
       "  <thead>\n",
       "    <tr style=\"text-align: right;\">\n",
       "      <th></th>\n",
       "      <th>date</th>\n",
       "      <th>id</th>\n",
       "      <th>user_ID</th>\n",
       "      <th>user_name</th>\n",
       "      <th>user_location</th>\n",
       "      <th>content</th>\n",
       "      <th>lang</th>\n",
       "      <th>replyCount</th>\n",
       "      <th>retweetCount</th>\n",
       "      <th>likeCount</th>\n",
       "      <th>inReplyToTweetId</th>\n",
       "      <th>inReplyToUser_ID</th>\n",
       "      <th>inReplyToUser_name</th>\n",
       "      <th>mentionedUsers_ID</th>\n",
       "      <th>mentionedUsers_name</th>\n",
       "    </tr>\n",
       "  </thead>\n",
       "  <tbody>\n",
       "    <tr>\n",
       "      <th>0</th>\n",
       "      <td>2022-04-01 23:52:46+00:00</td>\n",
       "      <td>1510042521300307970</td>\n",
       "      <td>1506615071891689475</td>\n",
       "      <td>indiaExam12</td>\n",
       "      <td>Fatehabad, Haryana</td>\n",
       "      <td>Twitter Brings Back Elon Musk’s Horror Show on...</td>\n",
       "      <td>en</td>\n",
       "      <td>0</td>\n",
       "      <td>0</td>\n",
       "      <td>0</td>\n",
       "      <td>NaN</td>\n",
       "      <td>0</td>\n",
       "      <td>0</td>\n",
       "      <td>0</td>\n",
       "      <td>0</td>\n",
       "    </tr>\n",
       "    <tr>\n",
       "      <th>1</th>\n",
       "      <td>2022-04-01 23:51:26+00:00</td>\n",
       "      <td>1510042183092649990</td>\n",
       "      <td>1497034745573781520</td>\n",
       "      <td>agent_x23</td>\n",
       "      <td>Oneonta, New York</td>\n",
       "      <td>@Sublux8tor @iOfRome72 @Tweets4retweets @tesla...</td>\n",
       "      <td>en</td>\n",
       "      <td>0</td>\n",
       "      <td>0</td>\n",
       "      <td>1</td>\n",
       "      <td>1510040892148645888.0</td>\n",
       "      <td>1025107839080001537</td>\n",
       "      <td>Sublux8tor</td>\n",
       "      <td>[1025107839080001537, 1494906005523775489, 145...</td>\n",
       "      <td>[Sublux8tor, iOfRome72, Tweets4retweets, tesla...</td>\n",
       "    </tr>\n",
       "    <tr>\n",
       "      <th>2</th>\n",
       "      <td>2022-04-01 23:48:22+00:00</td>\n",
       "      <td>1510041411474837504</td>\n",
       "      <td>1493816517514993667</td>\n",
       "      <td>Tyrone4Tyrone</td>\n",
       "      <td></td>\n",
       "      <td>@thestanceman1 @elonmusk Sure, I chastised a b...</td>\n",
       "      <td>en</td>\n",
       "      <td>0</td>\n",
       "      <td>0</td>\n",
       "      <td>1</td>\n",
       "      <td>1507795059600764928.0</td>\n",
       "      <td>1123267215678160901</td>\n",
       "      <td>thestanceman1</td>\n",
       "      <td>[1123267215678160901, 44196397]</td>\n",
       "      <td>[thestanceman1, elonmusk]</td>\n",
       "    </tr>\n",
       "    <tr>\n",
       "      <th>3</th>\n",
       "      <td>2022-04-01 23:46:45+00:00</td>\n",
       "      <td>1510041004983963652</td>\n",
       "      <td>1466802565148983307</td>\n",
       "      <td>Brandon36054793</td>\n",
       "      <td></td>\n",
       "      <td>@Twitter Work on a control+alt+delete :) @elon...</td>\n",
       "      <td>en</td>\n",
       "      <td>0</td>\n",
       "      <td>0</td>\n",
       "      <td>0</td>\n",
       "      <td>1509951255388504064.0</td>\n",
       "      <td>783214</td>\n",
       "      <td>Twitter</td>\n",
       "      <td>[783214, 44196397]</td>\n",
       "      <td>[Twitter, elonmusk]</td>\n",
       "    </tr>\n",
       "    <tr>\n",
       "      <th>4</th>\n",
       "      <td>2022-04-01 23:42:52+00:00</td>\n",
       "      <td>1510040029917110280</td>\n",
       "      <td>1356021036127404034</td>\n",
       "      <td>ThomasHBradford</td>\n",
       "      <td>The Metaverse</td>\n",
       "      <td>@SamTwits @robustus @elonmusk lol why do peopl...</td>\n",
       "      <td>en</td>\n",
       "      <td>0</td>\n",
       "      <td>0</td>\n",
       "      <td>0</td>\n",
       "      <td>1509344789115940864.0</td>\n",
       "      <td>1646555828</td>\n",
       "      <td>SamTwits</td>\n",
       "      <td>[1646555828, 14144398, 44196397]</td>\n",
       "      <td>[SamTwits, robustus, elonmusk]</td>\n",
       "    </tr>\n",
       "  </tbody>\n",
       "</table>\n",
       "</div>"
      ],
      "text/plain": [
       "                       date                   id              user_ID  \\\n",
       "0 2022-04-01 23:52:46+00:00  1510042521300307970  1506615071891689475   \n",
       "1 2022-04-01 23:51:26+00:00  1510042183092649990  1497034745573781520   \n",
       "2 2022-04-01 23:48:22+00:00  1510041411474837504  1493816517514993667   \n",
       "3 2022-04-01 23:46:45+00:00  1510041004983963652  1466802565148983307   \n",
       "4 2022-04-01 23:42:52+00:00  1510040029917110280  1356021036127404034   \n",
       "\n",
       "         user_name       user_location  \\\n",
       "0      indiaExam12  Fatehabad, Haryana   \n",
       "1        agent_x23   Oneonta, New York   \n",
       "2    Tyrone4Tyrone                       \n",
       "3  Brandon36054793                       \n",
       "4  ThomasHBradford       The Metaverse   \n",
       "\n",
       "                                             content lang replyCount  \\\n",
       "0  Twitter Brings Back Elon Musk’s Horror Show on...   en          0   \n",
       "1  @Sublux8tor @iOfRome72 @Tweets4retweets @tesla...   en          0   \n",
       "2  @thestanceman1 @elonmusk Sure, I chastised a b...   en          0   \n",
       "3  @Twitter Work on a control+alt+delete :) @elon...   en          0   \n",
       "4  @SamTwits @robustus @elonmusk lol why do peopl...   en          0   \n",
       "\n",
       "  retweetCount likeCount       inReplyToTweetId     inReplyToUser_ID  \\\n",
       "0            0         0                    NaN                    0   \n",
       "1            0         1  1510040892148645888.0  1025107839080001537   \n",
       "2            0         1  1507795059600764928.0  1123267215678160901   \n",
       "3            0         0  1509951255388504064.0               783214   \n",
       "4            0         0  1509344789115940864.0           1646555828   \n",
       "\n",
       "  inReplyToUser_name                                  mentionedUsers_ID  \\\n",
       "0                  0                                                  0   \n",
       "1         Sublux8tor  [1025107839080001537, 1494906005523775489, 145...   \n",
       "2      thestanceman1                    [1123267215678160901, 44196397]   \n",
       "3            Twitter                                 [783214, 44196397]   \n",
       "4           SamTwits                   [1646555828, 14144398, 44196397]   \n",
       "\n",
       "                                 mentionedUsers_name  \n",
       "0                                                  0  \n",
       "1  [Sublux8tor, iOfRome72, Tweets4retweets, tesla...  \n",
       "2                          [thestanceman1, elonmusk]  \n",
       "3                                [Twitter, elonmusk]  \n",
       "4                     [SamTwits, robustus, elonmusk]  "
      ]
     },
     "execution_count": 6,
     "metadata": {},
     "output_type": "execute_result"
    }
   ],
   "source": [
    "df.head()"
   ]
  },
  {
   "cell_type": "markdown",
   "id": "48222a52",
   "metadata": {},
   "source": [
    "<br>\n",
    "\n",
    "## Extracting Interaction Networks"
   ]
  },
  {
   "cell_type": "code",
   "execution_count": 7,
   "id": "170bd839",
   "metadata": {},
   "outputs": [],
   "source": [
    "# instantiate network digraphs\n",
    "G_reply = nx.DiGraph()\n",
    "G_mention = nx.DiGraph()"
   ]
  },
  {
   "cell_type": "code",
   "execution_count": 8,
   "id": "d9a12afd",
   "metadata": {},
   "outputs": [],
   "source": [
    "# a for loop to iterrate over\n",
    "for idx in range(0, df.shape[0]):\n",
    "    \n",
    "    # tweet metadata\n",
    "    author = df.iloc[idx]['user_name']\n",
    "    timestamp = df.iloc[idx]['date']\n",
    "        \n",
    "    # remove duplicate retweets and mentions\n",
    "    reply = df.iloc[idx]['inReplyToUser_name']\n",
    "    mentions = df.iloc[idx]['mentionedUsers_name']\n",
    "            \n",
    "    # if there are retweeted or mentioned users add edges\n",
    "    if reply !=0:\n",
    "        if (author,reply) not in G_reply.edges():\n",
    "            G_reply.add_edge( author, reply, Timestamp = timestamp )\n",
    "    if mentions:      \n",
    "        for user in mentions:\n",
    "            if (author,user) not in G_mention.edges():\n",
    "                G_mention.add_edge( author, user, Timestamp = timestamp )    "
   ]
  },
  {
   "cell_type": "code",
   "execution_count": 9,
   "id": "6eed6283",
   "metadata": {},
   "outputs": [
    {
     "name": "stdout",
     "output_type": "stream",
     "text": [
      "(595203, 3)\n",
      "(1725092, 3)\n"
     ]
    }
   ],
   "source": [
    "df_reply = nx.to_pandas_edgelist(G_reply)\n",
    "print( df_reply.shape )\n",
    "df_mention = nx.to_pandas_edgelist(G_mention)\n",
    "print( df_mention.shape )"
   ]
  },
  {
   "cell_type": "code",
   "execution_count": 10,
   "id": "15333bef",
   "metadata": {},
   "outputs": [],
   "source": [
    "df_reply.to_csv('elonmusktwitter_reply.csv', index=False)\n",
    "df_mention.to_csv('elonmusktwitter_mention.csv', index=False) "
   ]
  },
  {
   "cell_type": "markdown",
   "id": "da50956e",
   "metadata": {},
   "source": [
    "<br>\n",
    "\n",
    "## Comparing the Reply and Mention Networks"
   ]
  },
  {
   "cell_type": "markdown",
   "id": "597d4251",
   "metadata": {},
   "source": [
    "### Basic Global Measures"
   ]
  },
  {
   "cell_type": "code",
   "execution_count": 15,
   "id": "22e9561a",
   "metadata": {},
   "outputs": [
    {
     "data": {
      "text/html": [
       "<style type=\"text/css\">\n",
       "</style>\n",
       "<table id=\"T_bada9\">\n",
       "  <thead>\n",
       "    <tr>\n",
       "      <th class=\"blank level0\" >&nbsp;</th>\n",
       "      <th id=\"T_bada9_level0_col0\" class=\"col_heading level0 col0\" >Reply</th>\n",
       "      <th id=\"T_bada9_level0_col1\" class=\"col_heading level0 col1\" >Mention</th>\n",
       "    </tr>\n",
       "  </thead>\n",
       "  <tbody>\n",
       "    <tr>\n",
       "      <th id=\"T_bada9_level0_row0\" class=\"row_heading level0 row0\" >Number of Nodes</th>\n",
       "      <td id=\"T_bada9_row0_col0\" class=\"data row0 col0\" >497639.000000</td>\n",
       "      <td id=\"T_bada9_row0_col1\" class=\"data row0 col1\" >732244.000000</td>\n",
       "    </tr>\n",
       "    <tr>\n",
       "      <th id=\"T_bada9_level0_row1\" class=\"row_heading level0 row1\" >Number of Edges</th>\n",
       "      <td id=\"T_bada9_row1_col0\" class=\"data row1 col0\" >595203.000000</td>\n",
       "      <td id=\"T_bada9_row1_col1\" class=\"data row1 col1\" >1725092.000000</td>\n",
       "    </tr>\n",
       "    <tr>\n",
       "      <th id=\"T_bada9_level0_row2\" class=\"row_heading level0 row2\" >Density</th>\n",
       "      <td id=\"T_bada9_row2_col0\" class=\"data row2 col0\" >0.000002</td>\n",
       "      <td id=\"T_bada9_row2_col1\" class=\"data row2 col1\" >0.000003</td>\n",
       "    </tr>\n",
       "  </tbody>\n",
       "</table>\n"
      ],
      "text/plain": [
       "<pandas.io.formats.style.Styler at 0x7f97a9dff580>"
      ]
     },
     "execution_count": 15,
     "metadata": {},
     "output_type": "execute_result"
    }
   ],
   "source": [
    "df = pd.DataFrame([[len(G_reply.nodes), round(len(G_mention.nodes),0)],\n",
    "                   [len(G_reply.edges), len(G_mention.edges)],\n",
    "                   [nx.density(G_reply), nx.density(G_mention)]],\n",
    "                  index=pd.Index(['Number of Nodes', 'Number of Edges', 'Density']),\n",
    "                  columns=['Reply', 'Mention'])\n",
    "df.style"
   ]
  },
  {
   "cell_type": "markdown",
   "id": "09a0805d",
   "metadata": {},
   "source": [
    "* The Mention network is larger than the Reply network. This make the most sense as a given tweet can only be in reply to one user whereas a user can mention as many other users as the tweet character limit will allow.\n",
    "* Both networks are very sparse with only a fraction of a percent of the possible edge connection made."
   ]
  },
  {
   "cell_type": "markdown",
   "id": "6870b5d5",
   "metadata": {},
   "source": [
    "### Degree Analysis\n",
    "\n",
    "adapt the code from [NetworkX Degree Analysis](https://networkx.org/documentation/stable/auto_examples/drawing/plot_degree.html) example to visualize connectivity between the two networks. This will allow us the look for patterns in the connectivity of the nodes for each network"
   ]
  },
  {
   "cell_type": "code",
   "execution_count": 85,
   "id": "7cba74dc",
   "metadata": {},
   "outputs": [
    {
     "data": {
      "text/html": [
       "<style type=\"text/css\">\n",
       "</style>\n",
       "<table id=\"T_2b7a7\">\n",
       "  <thead>\n",
       "    <tr>\n",
       "      <th class=\"blank level0\" >&nbsp;</th>\n",
       "      <th id=\"T_2b7a7_level0_col0\" class=\"col_heading level0 col0\" >Reply</th>\n",
       "      <th id=\"T_2b7a7_level0_col1\" class=\"col_heading level0 col1\" >Mention</th>\n",
       "    </tr>\n",
       "  </thead>\n",
       "  <tbody>\n",
       "    <tr>\n",
       "      <th id=\"T_2b7a7_level0_row0\" class=\"row_heading level0 row0\" >Max In-Degree</th>\n",
       "      <td id=\"T_2b7a7_row0_col0\" class=\"data row0 col0\" >119145</td>\n",
       "      <td id=\"T_2b7a7_row0_col1\" class=\"data row0 col1\" >529067</td>\n",
       "    </tr>\n",
       "    <tr>\n",
       "      <th id=\"T_2b7a7_level0_row1\" class=\"row_heading level0 row1\" >Max Out-Degree</th>\n",
       "      <td id=\"T_2b7a7_row1_col0\" class=\"data row1 col0\" >148</td>\n",
       "      <td id=\"T_2b7a7_row1_col1\" class=\"data row1 col1\" >428</td>\n",
       "    </tr>\n",
       "  </tbody>\n",
       "</table>\n"
      ],
      "text/plain": [
       "<pandas.io.formats.style.Styler at 0x7f97a681a650>"
      ]
     },
     "execution_count": 85,
     "metadata": {},
     "output_type": "execute_result"
    }
   ],
   "source": [
    "# find the degree connectivity of nodes in the network\n",
    "#in reply\n",
    "reply_indegree_sequence = sorted((d for n, d in G_reply.in_degree()), reverse=True)\n",
    "in_reply_dmax = max(reply_indegree_sequence)\n",
    "#in mention\n",
    "mention_indegree_sequence = sorted((d for n, d in G_mention.in_degree()), reverse=True)\n",
    "in_mention_dmax = max(mention_indegree_sequence)\n",
    "#out reply\n",
    "reply_outdegree_sequence = sorted((d for n, d in G_reply.out_degree()), reverse=True)\n",
    "out_reply_dmax = max(reply_outdegree_sequence)\n",
    "#out mention\n",
    "mention_outdegree_sequence = sorted((d for n, d in G_mention.out_degree()), reverse=True)\n",
    "out_mention_dmax = max(mention_outdegree_sequence)\n",
    "\n",
    "df = pd.DataFrame([[in_reply_dmax, in_mention_dmax],\n",
    "                  [out_reply_dmax, out_mention_dmax]],\n",
    "                  index=pd.Index(['Max In-Degree', 'Max Out-Degree']),\n",
    "                  columns=['Reply', 'Mention'])\n",
    "df.style"
   ]
  },
  {
   "cell_type": "code",
   "execution_count": 102,
   "id": "68cf7f4e",
   "metadata": {},
   "outputs": [],
   "source": [
    "# Create a gridspec for adding subplots of different sizes\n",
    "def plot_network_deg( network_str, in_degree_sequence, out_degree_sequence ):\n",
    "    \"\"\"\n",
    "    plot the degree rank plot and degree distribution plot\n",
    "    \"\"\"\n",
    "    fig, ((ax1, ax2), (ax3, ax4)) = plt.subplots(2, 2,figsize=(12,12))\n",
    "    #in degree rank plot\n",
    "    ax1.loglog(in_degree_sequence, \"b-\", marker=\"o\")\n",
    "    ax1.set_title(\"In-Degree Rank Plot\")\n",
    "    ax1.set_ylabel(\"Degree\")\n",
    "    ax1.set_xlabel(\"Rank\")\n",
    "    #in degee distribution\n",
    "    ax2.hist(in_degree_sequence, bins=50, range=(0,50))\n",
    "    ax2.set_title(\"In-Degree Distribution\")\n",
    "    ax2.set_xlabel(\"Degree\")\n",
    "    ax2.set_ylabel(\"# of Nodes\")\n",
    "    #out degree rank plot\n",
    "    ax3.loglog(out_degree_sequence, \"b-\", marker=\"o\")\n",
    "    ax3.set_title(\"Out-Degree Rank Plot\")\n",
    "    ax3.set_ylabel(\"Degree\")\n",
    "    ax3.set_xlabel(\"Rank\")\n",
    "    #out degee distribution\n",
    "    ax4.hist(out_degree_sequence, bins=50, range=(0,50))\n",
    "    ax4.set_title(\"Out-Degree Distribution\")\n",
    "    ax4.set_xlabel(\"Degree\")\n",
    "    ax4.set_ylabel(\"# of Nodes\")    \n",
    "\n",
    "    plt.setp(ax3, ylim=ax1.get_ylim())\n",
    "    plt.setp(ax4, ylim=ax2.get_ylim())\n",
    "#     fig.tight_layout()\n",
    "    fig.suptitle(network_str)\n",
    "    plt.show()"
   ]
  },
  {
   "cell_type": "code",
   "execution_count": 103,
   "id": "4746693b",
   "metadata": {},
   "outputs": [
    {
     "data": {
      "image/png": "[encoded data removed]",
      "text/plain": [
       "<Figure size 864x864 with 4 Axes>"
      ]
     },
     "metadata": {
      "needs_background": "light"
     },
     "output_type": "display_data"
    }
   ],
   "source": [
    "plot_network_deg( 'Reply Graph Network', reply_indegree_sequence, reply_outdegree_sequence )"
   ]
  },
  {
   "cell_type": "code",
   "execution_count": 104,
   "id": "57cafaee",
   "metadata": {
    "scrolled": false
   },
   "outputs": [
    {
     "data": {
      "image/png": "[encoded data removed]",
      "text/plain": [
       "<Figure size 864x864 with 4 Axes>"
      ]
     },
     "metadata": {
      "needs_background": "light"
     },
     "output_type": "display_data"
    }
   ],
   "source": [
    "plot_network_deg( 'Mention Graph Network', mention_indegree_sequence, mention_outdegree_sequence )"
   ]
  },
  {
   "cell_type": "markdown",
   "id": "e00bfdba",
   "metadata": {},
   "source": [
    "There is a similar pattern for each of the graph networks:\n",
    "* **In-Degree ~ Rank Plot** - where rank sequence == Node connectivity that appears the least frequent ordered first and node connectivity that appears the most, last.\n",
    "    - nodes that have a very high connectivity appear the least\n",
    "    - nodes with a very low connectivity appear most frequently\n",
    "* **In-Degree Distribution** \n",
    "    - The vast majority of nodes in he data set have very low degree connectivity.\n",
    "* **Out-Degree ~ Rank Plot**\n",
    "    - For both networks, this plot is shallower than the In-Degree owing to the shorter range of possible values\n",
    "* **Out-Degree Distribution**\n",
    "    - Out degree distribution is shifted slightly to the right compared to the In-Degree Distribution; this is more pronounced in the Mention graph network"
   ]
  },
  {
   "cell_type": "markdown",
   "id": "f41c6ecf",
   "metadata": {},
   "source": [
    "Interesting. Now to take a look at the user names behings some of the nodes with the most In-bound replies vs the outbound. Likewise for Mentions  \n",
    "\n",
    "In a data set built on the query 'elon musk twitter', which name will recieve the most replies and mentions?"
   ]
  },
  {
   "cell_type": "code",
   "execution_count": 105,
   "id": "67a97cd4",
   "metadata": {},
   "outputs": [
    {
     "name": "stdout",
     "output_type": "stream",
     "text": [
      "\n",
      "Top In-Degree Reply Network Nodes:\n"
     ]
    },
    {
     "data": {
      "text/plain": [
       "[['elonmusk', 119145],\n",
       " ['TomFitton', 7135],\n",
       " ['tedcruz', 6591],\n",
       " ['CawthornforNC', 4707],\n",
       " ['MulhollandL0ver', 4553],\n",
       " ['JRlopezbeltran', 4392],\n",
       " ['marcorubio', 3275],\n",
       " ['laurenboebert', 3235],\n",
       " ['ClayTravis', 2880],\n",
       " ['beppesevergnini', 2639]]"
      ]
     },
     "execution_count": 105,
     "metadata": {},
     "output_type": "execute_result"
    }
   ],
   "source": [
    "reply_indegree = [[n,d] for n, d in G_reply.in_degree()]\n",
    "res =(sorted(reply_indegree, key=lambda x:x[1], reverse=True))\n",
    "print( '\\nTop In-Degree Reply Network Nodes:' )\n",
    "res[0:10]"
   ]
  },
  {
   "cell_type": "code",
   "execution_count": 106,
   "id": "f92bb1c9",
   "metadata": {},
   "outputs": [
    {
     "name": "stdout",
     "output_type": "stream",
     "text": [
      "\n",
      "Top Out-Degree Reply Network Nodes:\n"
     ]
    },
    {
     "data": {
      "text/plain": [
       "[['macgyver_p', 148],\n",
       " ['writerlyai_bot', 132],\n",
       " ['elonmusk', 127],\n",
       " ['SergioVengeance', 126],\n",
       " ['JeffreyAWillia4', 79],\n",
       " ['Factschaser', 78],\n",
       " ['GyroWaveGen_TM', 66],\n",
       " ['Cartel36661994', 66],\n",
       " ['SheldonCassidy2', 65],\n",
       " ['claes69', 64]]"
      ]
     },
     "execution_count": 106,
     "metadata": {},
     "output_type": "execute_result"
    }
   ],
   "source": [
    "reply_outdegree = [[n,d] for n, d in G_reply.out_degree()]\n",
    "res =(sorted(reply_outdegree, key=lambda x:x[1], reverse=True))\n",
    "print( '\\nTop Out-Degree Reply Network Nodes:' )\n",
    "res[0:10]"
   ]
  },
  {
   "cell_type": "code",
   "execution_count": 107,
   "id": "d537d53d",
   "metadata": {},
   "outputs": [
    {
     "name": "stdout",
     "output_type": "stream",
     "text": [
      "\n",
      "Top In-Degree Mention Network Nodes:\n"
     ]
    },
    {
     "data": {
      "text/plain": [
       "[['elonmusk', 529067],\n",
       " ['Twitter', 205863],\n",
       " ['Alwaleed_Talal', 18490],\n",
       " ['Kingdom_KHC', 18326],\n",
       " ['TomFitton', 12639],\n",
       " ['paraga', 12429],\n",
       " ['Tesla', 9117],\n",
       " ['jack', 8552],\n",
       " ['tedcruz', 7890],\n",
       " ['YouTube', 6488]]"
      ]
     },
     "execution_count": 107,
     "metadata": {},
     "output_type": "execute_result"
    }
   ],
   "source": [
    "mention_indegree = [[n,d] for n, d in G_mention.in_degree()]\n",
    "res =(sorted(mention_indegree, key=lambda x:x[1], reverse=True))\n",
    "print( '\\nTop In-Degree Mention Network Nodes:' )\n",
    "res[0:10]"
   ]
  },
  {
   "cell_type": "code",
   "execution_count": 108,
   "id": "5e3c2ff5",
   "metadata": {},
   "outputs": [
    {
     "name": "stdout",
     "output_type": "stream",
     "text": [
      "\n",
      "Top Out-Degree Mention Network Nodes:\n"
     ]
    },
    {
     "data": {
      "text/plain": [
       "[['scharlab', 428],\n",
       " ['SergioVengeance', 314],\n",
       " ['macgyver_p', 202],\n",
       " ['elonmusk', 194],\n",
       " ['Factschaser', 193],\n",
       " ['digital_slime', 168],\n",
       " ['stratorob', 134],\n",
       " ['NewStyle303', 131],\n",
       " ['writerlyai_bot', 130],\n",
       " ['iJaceSummers', 128]]"
      ]
     },
     "execution_count": 108,
     "metadata": {},
     "output_type": "execute_result"
    }
   ],
   "source": [
    "mention_outdegree = [[n,d] for n, d in G_mention.out_degree()]\n",
    "res =(sorted(mention_outdegree, key=lambda x:x[1], reverse=True))\n",
    "print( '\\nTop Out-Degree Mention Network Nodes:' )\n",
    "res[0:10]"
   ]
  },
  {
   "cell_type": "markdown",
   "id": "14477cba",
   "metadata": {},
   "source": [
    "* For both the Reply and Mention networks, the number of In-degree edges for the top ranked nodes is orders of magnitudes greater than the Out-degree edges for the top ranked nodes\n",
    "* For this small sample of 10: The top Reply nodes tend to be to identifiably human accounts. Whereas the Mentions have several organizations (e.g. Twitter, Tesla & Youtube) at least for In-degree."
   ]
  }
 ],
 "metadata": {
  "kernelspec": {
   "display_name": "snscrape_sidequests_p39",
   "language": "python",
   "name": "snscrape_sidequests_p39"
  },
  "language_info": {
   "codemirror_mode": {
    "name": "ipython",
    "version": 3
   },
   "file_extension": ".py",
   "mimetype": "text/x-python",
   "name": "python",
   "nbconvert_exporter": "python",
   "pygments_lexer": "ipython3",
   "version": "3.10.4"
  }
 },
 "nbformat": 4,
 "nbformat_minor": 5
}

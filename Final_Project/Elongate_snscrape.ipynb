{
 "cells": [
  {
   "cell_type": "markdown",
   "id": "fa667bf6",
   "metadata": {},
   "source": [
    "<br>\n",
    "\n",
    "# Elongate `snscrape`\n",
    "## Collecting tweets to study the propagation of the news that covers Elon Musk's Twitter acquisition"
   ]
  },
  {
   "cell_type": "markdown",
   "id": "ebf50640",
   "metadata": {},
   "source": [
    "<br>\n",
    "\n",
    "This notebook details the web scraping of Twitter data for Group (lucky) #7's Final Project."
   ]
  },
  {
   "cell_type": "code",
   "execution_count": 1,
   "id": "c716e6cf",
   "metadata": {},
   "outputs": [
    {
     "name": "stdout",
     "output_type": "stream",
     "text": [
      "3.10.4\n"
     ]
    }
   ],
   "source": [
    "# python version must be >= 3.8 for snscrape to work properly\n",
    "from platform import python_version\n",
    "print(python_version())"
   ]
  },
  {
   "cell_type": "code",
   "execution_count": null,
   "id": "9d49bc8b",
   "metadata": {},
   "outputs": [],
   "source": [
    "# to install snscrape\n",
    "# this notebook uses the developer version\n",
    "# pip3 install git+https://github.com/JustAnotherArchivist/snscrape.git"
   ]
  },
  {
   "cell_type": "code",
   "execution_count": 2,
   "id": "9a245aba",
   "metadata": {},
   "outputs": [],
   "source": [
    "# Imports\n",
    "import os\n",
    "import pandas as pd\n",
    "import snscrape\n",
    "import pickle\n",
    "import matplotlib.pyplot as plt"
   ]
  },
  {
   "cell_type": "markdown",
   "id": "db503211",
   "metadata": {},
   "source": [
    "<br>\n",
    "\n",
    "### scraping tweets with `snscrape`\n",
    "\n",
    "*  To optimize daily tweet scraping, perform a seperate scrape for each day. scraping is a stochastic process, so this is one way to *try* to evenly collect data across the time frame of interest.\n",
    "* use the following search parameters:\n",
    "    * search query: \"elon musk twitter\"\n",
    "    * since date (inclusive) YYYY-MM-DD\n",
    "    * until date (exclusive) YYYY-MM-DD\n",
    "* use the `os` python system library to run snscrape CLI command\n",
    "    * general form: `snscrape [GLOBAL-OPTIONS] SCRAPER-NAME [SCRAPER-OPTIONS] [SCRAPER-ARGUMENTS...]`\n",
    "    \n",
    "<br>"
   ]
  },
  {
   "cell_type": "code",
   "execution_count": 3,
   "id": "fe3b4a78",
   "metadata": {},
   "outputs": [
    {
     "data": {
      "text/plain": [
       "6"
      ]
     },
     "execution_count": 3,
     "metadata": {},
     "output_type": "execute_result"
    }
   ],
   "source": [
    "# lists of strings used to build query string\n",
    "\n",
    "# dates_str = ['01', '02', '03', '04', '05', 06', '07', '08', '09', '10', '11', '12', '13', '14', '15', '16', '17',\n",
    "#             '18', '19', '20', '21', '22', '23', '24', '25', '26', '27', '28', '29', '30' ] \n",
    "dates_str = ['01', '02', '03', '04', '05', '06']\n",
    "len( dates_str )"
   ]
  },
  {
   "cell_type": "code",
   "execution_count": 3,
   "id": "cc074bb5",
   "metadata": {},
   "outputs": [],
   "source": [
    "text_query = \"elon musk twitter\"\n",
    "since_stem = \"2022-04-\"\n",
    "until_stem = \"2022-04-\"\n",
    "\n",
    "# loop over dates in the dates_str list\n",
    "for idx in range( 0, len( dates_str )-1 ):\n",
    "    since_date = since_stem+dates_str[idx]\n",
    "    print(since_date)\n",
    "    until_date = until_stem+dates_str[idx+1]\n",
    "    os.system('snscrape --jsonl twitter-search \"{} since:{} until:{}\"> {}-tweets.json'.format(text_query, since_date, until_date, since_date))"
   ]
  },
  {
   "cell_type": "markdown",
   "id": "35318404",
   "metadata": {},
   "source": [
    "<br>\n",
    "\n",
    "Over the course of the scrape there were a few errors: \n",
    "\n",
    "\n",
    "* 2022-04-17 2022-05-15 02:12:12.391  WARNING  snscrape.modules.twitter  Unsupported unified_card type on tweet 1515565247876276227\n",
    "\n",
    "* 2022-04-21 2022-05-15 02:43:51.553  WARNING  snscrape.modules.twitter  Unsupported unified_card type on tweet 1516939562270007297\n",
    "\n",
    "* 2022-04-25 2022-05-15 03:06:28.919  CRITICAL  snscrape._cli  Dumped stack and locals to /tmp/snscrape_locals_mwzuw6kg Traceback (most recent call last):\n",
    "    \n",
    "* 2022-04-26 2022-05-15 04:20:46.795  WARNING  snscrape.modules.twitter  Unsupported unified_card type on tweet 1518737959071399936\n",
    "    \n",
    "* 2022-04-27 2022-05-15 05:44:22.676  WARNING  snscrape.modules.twitter  Unsupported unified_card type on tweet 1519304542420189184\n",
    "\n",
    "* 2022-04-28 2022-05-15 06:23:37.606  CRITICAL  snscrape._cli  Dumped stack and locals to /tmp/snscrape_locals_lzwm9ajh\n",
    "Traceback (most recent call last):\n",
    "\n",
    "\n",
    "The unsupported call errors ( 4/17, 4/21, 4/26,  4/27 ) may have limitted the number of tweets  \n",
    "However, the CRITICAL errors (4/25, 4/28) definitely led to a supstantially smaller tweet yield.  \n",
    "\n",
    "\n",
    "As a result, a .json file is produced for each date scrape and saved to the directory the `snscrpae` CLI command was run. Next, the files need to be concatenated into a single pandas dataframe\n",
    "\n"
   ]
  },
  {
   "cell_type": "code",
   "execution_count": 4,
   "id": "cdbb1133",
   "metadata": {},
   "outputs": [
    {
     "data": {
      "text/plain": [
       "(529, 29)"
      ]
     },
     "execution_count": 4,
     "metadata": {},
     "output_type": "execute_result"
    }
   ],
   "source": [
    "# examining one of the scaper results\n",
    "\n",
    "# Reads the json generated from the CLI command above and creates a pandas dataframe\n",
    "tweets_df1 = pd.read_json('2022-04-01-tweets.json', lines=True)\n",
    "# Displays first 5 entries from dataframe\n",
    "tweets_df1.shape"
   ]
  },
  {
   "cell_type": "code",
   "execution_count": 31,
   "id": "a4771357",
   "metadata": {},
   "outputs": [
    {
     "name": "stdout",
     "output_type": "stream",
     "text": [
      "<class 'pandas.core.frame.DataFrame'>\n",
      "RangeIndex: 529 entries, 0 to 528\n",
      "Data columns (total 29 columns):\n",
      " #   Column            Non-Null Count  Dtype              \n",
      "---  ------            --------------  -----              \n",
      " 0   _type             529 non-null    object             \n",
      " 1   url               529 non-null    object             \n",
      " 2   date              529 non-null    datetime64[ns, UTC]\n",
      " 3   content           529 non-null    object             \n",
      " 4   renderedContent   529 non-null    object             \n",
      " 5   id                529 non-null    int64              \n",
      " 6   user              529 non-null    object             \n",
      " 7   replyCount        529 non-null    int64              \n",
      " 8   retweetCount      529 non-null    int64              \n",
      " 9   likeCount         529 non-null    int64              \n",
      " 10  quoteCount        529 non-null    int64              \n",
      " 11  conversationId    529 non-null    int64              \n",
      " 12  lang              529 non-null    object             \n",
      " 13  source            529 non-null    object             \n",
      " 14  sourceUrl         529 non-null    object             \n",
      " 15  sourceLabel       529 non-null    object             \n",
      " 16  outlinks          110 non-null    object             \n",
      " 17  tcooutlinks       110 non-null    object             \n",
      " 18  media             57 non-null     object             \n",
      " 19  retweetedTweet    0 non-null      float64            \n",
      " 20  quotedTweet       33 non-null     object             \n",
      " 21  inReplyToTweetId  329 non-null    float64            \n",
      " 22  inReplyToUser     329 non-null    object             \n",
      " 23  mentionedUsers    436 non-null    object             \n",
      " 24  coordinates       6 non-null      object             \n",
      " 25  place             6 non-null      object             \n",
      " 26  hashtags          66 non-null     object             \n",
      " 27  cashtags          10 non-null     object             \n",
      " 28  card              64 non-null     object             \n",
      "dtypes: datetime64[ns, UTC](1), float64(2), int64(6), object(20)\n",
      "memory usage: 120.0+ KB\n"
     ]
    }
   ],
   "source": [
    "tweets_df1.info()"
   ]
  },
  {
   "cell_type": "code",
   "execution_count": 97,
   "id": "ad0ed149",
   "metadata": {},
   "outputs": [
    {
     "data": {
      "text/plain": [
       "{'_type': 'snscrape.modules.twitter.User',\n",
       " 'username': 'indiaExam12',\n",
       " 'id': 1506615071891689475,\n",
       " 'displayname': 'india Exam - indExam.in',\n",
       " 'description': 'India Exam is a job Portal that provides details of all Sarkari exams, Sarkari Naukri, Govt Jobs, rojgar results,Admit Card, Admission, etc. indExam.in #indexam',\n",
       " 'rawDescription': 'India Exam is a job Portal that provides details of all Sarkari exams, Sarkari Naukri, Govt Jobs, rojgar results,Admit Card, Admission, etc. https://t.co/TU6QSSmela #indexam',\n",
       " 'descriptionUrls': [{'text': 'indExam.in',\n",
       "   'url': 'http://indExam.in',\n",
       "   'tcourl': 'https://t.co/TU6QSSmela',\n",
       "   'indices': [141, 164]}],\n",
       " 'verified': False,\n",
       " 'created': '2022-03-23T12:53:32+00:00',\n",
       " 'followersCount': 20,\n",
       " 'friendsCount': 3,\n",
       " 'statusesCount': 30353,\n",
       " 'favouritesCount': 0,\n",
       " 'listedCount': 0,\n",
       " 'mediaCount': 1,\n",
       " 'location': 'Fatehabad, Haryana',\n",
       " 'protected': False,\n",
       " 'linkUrl': 'https://indexam.in/',\n",
       " 'linkTcourl': 'https://t.co/xxnp01s1Te',\n",
       " 'profileImageUrl': 'https://pbs.twimg.com/profile_images/1506616094492327937/MA4kxYZw_normal.jpg',\n",
       " 'profileBannerUrl': 'https://pbs.twimg.com/profile_banners/1506615071891689475/1648040246',\n",
       " 'label': None,\n",
       " 'url': 'https://twitter.com/indiaExam12'}"
      ]
     },
     "execution_count": 97,
     "metadata": {},
     "output_type": "execute_result"
    }
   ],
   "source": [
    "tweets_df1['user'][0]"
   ]
  },
  {
   "cell_type": "markdown",
   "id": "1a85b92c",
   "metadata": {},
   "source": [
    "<br>\n",
    "\n",
    "The scrape results hold a row for each tweet with 29 fields of information. Some of the fields (e.g. 'user') are nested structures. We would like to produce a dataframe with all the tweet results that holds only the fields we would like to use for analysis. Furthermore, to make the dataframe more memory efficient, we would like to unnest the data fields we need from within nested structures.\n",
    "\n",
    "<br>"
   ]
  },
  {
   "cell_type": "code",
   "execution_count": 5,
   "id": "8ea06aee",
   "metadata": {},
   "outputs": [
    {
     "data": {
      "text/html": [
       "<div>\n",
       "<style scoped>\n",
       "    .dataframe tbody tr th:only-of-type {\n",
       "        vertical-align: middle;\n",
       "    }\n",
       "\n",
       "    .dataframe tbody tr th {\n",
       "        vertical-align: top;\n",
       "    }\n",
       "\n",
       "    .dataframe thead th {\n",
       "        text-align: right;\n",
       "    }\n",
       "</style>\n",
       "<table border=\"1\" class=\"dataframe\">\n",
       "  <thead>\n",
       "    <tr style=\"text-align: right;\">\n",
       "      <th></th>\n",
       "      <th>date</th>\n",
       "      <th>id</th>\n",
       "      <th>user_ID</th>\n",
       "      <th>user_name</th>\n",
       "      <th>user_location</th>\n",
       "      <th>content</th>\n",
       "      <th>lang</th>\n",
       "      <th>replyCount</th>\n",
       "      <th>retweetCount</th>\n",
       "      <th>likeCount</th>\n",
       "      <th>inReplyToTweetId</th>\n",
       "      <th>inReplyToUser_ID</th>\n",
       "      <th>inReplyToUser_name</th>\n",
       "      <th>mentionedUsers_ID</th>\n",
       "      <th>mentionedUsers_name</th>\n",
       "    </tr>\n",
       "  </thead>\n",
       "  <tbody>\n",
       "  </tbody>\n",
       "</table>\n",
       "</div>"
      ],
      "text/plain": [
       "Empty DataFrame\n",
       "Columns: [date, id, user_ID, user_name, user_location, content, lang, replyCount, retweetCount, likeCount, inReplyToTweetId, inReplyToUser_ID, inReplyToUser_name, mentionedUsers_ID, mentionedUsers_name]\n",
       "Index: []"
      ]
     },
     "execution_count": 5,
     "metadata": {},
     "output_type": "execute_result"
    }
   ],
   "source": [
    "# the fields we will pull from the original raw scrape result\n",
    "snscols  = ['date', 'id', 'user', 'content', 'lang', 'replyCount', 'retweetCount', \n",
    "           'likeCount', 'inReplyToTweetId', 'inReplyToUser', 'mentionedUsers']\n",
    "# the fields our preprocessed dataframe will hold\n",
    "datacols = ['date', 'id', 'user_ID', 'user_name', 'user_location', 'content', 'lang', 'replyCount', 'retweetCount', \n",
    "           'likeCount', 'inReplyToTweetId', 'inReplyToUser_ID', 'inReplyToUser_name', \n",
    "           'mentionedUsers_ID', 'mentionedUsers_name']\n",
    "# initialize an empty dataframe with columns = 'datacols'\n",
    "df = pd.DataFrame(columns=datacols)\n",
    "df"
   ]
  },
  {
   "cell_type": "code",
   "execution_count": 6,
   "id": "769cf03f",
   "metadata": {},
   "outputs": [
    {
     "data": {
      "text/plain": [
       "['2022-04-01-tweets.json',\n",
       " '2022-04-02-tweets.json',\n",
       " '2022-04-03-tweets.json',\n",
       " '2022-04-04-tweets.json',\n",
       " '2022-04-05-tweets.json',\n",
       " '2022-04-06-tweets.json',\n",
       " '2022-04-07-tweets.json',\n",
       " '2022-04-08-tweets.json',\n",
       " '2022-04-09-tweets.json',\n",
       " '2022-04-10-tweets.json',\n",
       " '2022-04-11-tweets.json',\n",
       " '2022-04-12-tweets.json',\n",
       " '2022-04-13-tweets.json',\n",
       " '2022-04-14-tweets.json',\n",
       " '2022-04-15-tweets.json',\n",
       " '2022-04-16-tweets.json',\n",
       " '2022-04-17-tweets.json',\n",
       " '2022-04-18-tweets.json',\n",
       " '2022-04-19-tweets.json',\n",
       " '2022-04-20-tweets.json',\n",
       " '2022-04-21-tweets.json',\n",
       " '2022-04-22-tweets.json',\n",
       " '2022-04-23-tweets.json',\n",
       " '2022-04-24-tweets.json',\n",
       " '2022-04-25-tweets.json',\n",
       " '2022-04-26-tweets.json',\n",
       " '2022-04-27-tweets.json',\n",
       " '2022-04-28-tweets.json',\n",
       " '2022-04-29-tweets.json',\n",
       " '2022-04-30-tweets.json',\n",
       " '2022-05-01-tweets.json',\n",
       " '2022-05-02-tweets.json',\n",
       " '2022-05-03-tweets.json',\n",
       " '2022-05-04-tweets.json',\n",
       " '2022-05-05-tweets.json']"
      ]
     },
     "execution_count": 6,
     "metadata": {},
     "output_type": "execute_result"
    }
   ],
   "source": [
    "# generate a list of all snscrape generated json files\n",
    "path = '/home/bonzilla/Documents/MSDS/DATA620/Final_Project'\n",
    "files = sorted( os.listdir(path) )\n",
    "files = [file for file in files if 'tweets.json' in file]\n",
    "files"
   ]
  },
  {
   "cell_type": "code",
   "execution_count": 4,
   "id": "c6d23739",
   "metadata": {},
   "outputs": [
    {
     "name": "stdout",
     "output_type": "stream",
     "text": [
      "2022-04-01-tweets.json: 529\n",
      "2022-04-02-tweets.json: 443\n",
      "2022-04-03-tweets.json: 824\n",
      "2022-04-04-tweets.json: 49143\n",
      "2022-04-05-tweets.json: 71672\n",
      "2022-04-06-tweets.json: 28854\n",
      "2022-04-07-tweets.json: 15818\n",
      "2022-04-08-tweets.json: 9432\n",
      "2022-04-09-tweets.json: 12996\n",
      "2022-04-10-tweets.json: 22185\n",
      "2022-04-11-tweets.json: 33172\n",
      "2022-04-12-tweets.json: 10921\n",
      "2022-04-13-tweets.json: 10725\n",
      "2022-04-14-tweets.json: 164264\n",
      "2022-04-15-tweets.json: 107925\n",
      "2022-04-16-tweets.json: 53995\n",
      "2022-04-17-tweets.json: 21292\n",
      "2022-04-18-tweets.json: 17858\n",
      "2022-04-19-tweets.json: 16895\n",
      "2022-04-20-tweets.json: 14118\n",
      "2022-04-21-tweets.json: 17683\n",
      "2022-04-22-tweets.json: 16459\n",
      "2022-04-23-tweets.json: 14160\n",
      "2022-04-24-tweets.json: 12178\n",
      "2022-04-25-tweets.json: 7055\n",
      "2022-04-26-tweets.json: 318251\n",
      "2022-04-27-tweets.json: 154812\n",
      "2022-04-28-tweets.json: 15816\n",
      "2022-04-29-tweets.json: 69139\n",
      "2022-04-30-tweets.json: 46226\n",
      "2022-05-01-tweets.json: 30698\n",
      "2022-05-02-tweets.json: 29786\n",
      "2022-05-03-tweets.json: 24577\n",
      "2022-05-04-tweets.json: 26327\n",
      "2022-05-05-tweets.json: 29258\n",
      " \n",
      "1475486\n"
     ]
    }
   ],
   "source": [
    "df = pd.DataFrame(columns=datacols)\n",
    "\n",
    "num_tweets = 0\n",
    "\n",
    "#for every file\n",
    "for idx in range(0,len(files)):\n",
    "    file = files[idx]\n",
    "    # rad the file\n",
    "    dfn = pd.read_json(file, lines=True)\n",
    "    # subset just the cols we want\n",
    "    dfn = dfn[snscols]\n",
    "    # unnest user id, username, and location\n",
    "    dfn['user_ID'] = [dfn['user'][idx]['id'] if dfn['user'][idx] else 0 for idx in range(0,dfn.shape[0] ) ]\n",
    "    dfn['user_name'] = [dfn['user'][idx]['username'] if dfn['user'][idx] else 0 for idx in range(0,dfn.shape[0] ) ]\n",
    "    dfn['user_location'] = [dfn['user'][idx]['location'] if dfn['user'][idx] else 0 for idx in range(0,dfn.shape[0] ) ]    \n",
    "    # unnest the id & username from the inReplyToUser to see what user this tweet is retweeting\n",
    "    dfn['inReplyToUser_ID'] = [dfn['inReplyToUser'][idx]['id'] if dfn['inReplyToUser'][idx] else 0 for idx in range(0,dfn.shape[0] ) ]\n",
    "    dfn['inReplyToUser_name'] = [dfn['inReplyToUser'][idx]['username'] if dfn['inReplyToUser'][idx] else 0 for idx in range(0,len( dfn['inReplyToUser'] )) ]\n",
    "    # unnest lists of just the ids and names of users that were mentioned (@ed) in this tweet\n",
    "    mentioned_users_id = []\n",
    "    mentioned_users_name = []\n",
    "    for idx in range( 0, dfn.shape[0]):\n",
    "        if dfn['mentionedUsers'][idx]:\n",
    "            mu_id = [dfn['mentionedUsers'][idx][idxx]['id'] for idxx in range(0,len(dfn['mentionedUsers'][idx]))]\n",
    "            mentioned_users_id.append( mu_id )\n",
    "            mu_name = [dfn['mentionedUsers'][idx][idxx]['username'] for idxx in range(0,len(dfn['mentionedUsers'][idx]))]\n",
    "            mentioned_users_name.append( mu_name ) \n",
    "        else:\n",
    "            mentioned_users_id.append( 0 )\n",
    "            mentioned_users_name.append( 0 )            \n",
    "    num_tweets += dfn.shape[0]\n",
    "    dfn['mentionedUsers_ID'] = mentioned_users_id\n",
    "    dfn['mentionedUsers_name'] = mentioned_users_name  \n",
    "    # drop nested fields from the df\n",
    "    dfn = dfn.drop(columns=['user', 'inReplyToUser', 'mentionedUsers'])\n",
    "    print( file + ': ' + str( dfn.shape[0] ) )\n",
    "    # concatenat the results\n",
    "    df = pd.concat([df,dfn], ignore_index=True)\n",
    "print( ' ' )\n",
    "print( num_tweets )"
   ]
  },
  {
   "cell_type": "code",
   "execution_count": 8,
   "id": "f909f935",
   "metadata": {},
   "outputs": [],
   "source": [
    "# save/load pickled df\n",
    "\n",
    "# filehandler = open(\"elonmusktwitter_tweets_df.obj\",\"wb\")\n",
    "# pickle.dump(df,filehandler)\n",
    "# filehandler.close()\n",
    "\n",
    "# file = open(\"elonmusktwitter_tweets_df.obj\",'rb')\n",
    "# df = pickle.load(file)\n",
    "# file.close()"
   ]
  },
  {
   "cell_type": "markdown",
   "id": "790568a3",
   "metadata": {},
   "source": [
    "<br>\n",
    "\n",
    "## EDA\n",
    "\n",
    "Visualize the timeline of the data"
   ]
  },
  {
   "cell_type": "code",
   "execution_count": 9,
   "id": "550fc035",
   "metadata": {},
   "outputs": [],
   "source": [
    "# reformat 'date' from string the datetime type\n",
    "df['date'] =  pd.to_datetime(df['date'])"
   ]
  },
  {
   "cell_type": "code",
   "execution_count": 10,
   "id": "aacd5b84",
   "metadata": {},
   "outputs": [
    {
     "data": {
      "text/html": [
       "<div>\n",
       "<style scoped>\n",
       "    .dataframe tbody tr th:only-of-type {\n",
       "        vertical-align: middle;\n",
       "    }\n",
       "\n",
       "    .dataframe tbody tr th {\n",
       "        vertical-align: top;\n",
       "    }\n",
       "\n",
       "    .dataframe thead th {\n",
       "        text-align: right;\n",
       "    }\n",
       "</style>\n",
       "<table border=\"1\" class=\"dataframe\">\n",
       "  <thead>\n",
       "    <tr style=\"text-align: right;\">\n",
       "      <th></th>\n",
       "      <th>id</th>\n",
       "      <th>user_ID</th>\n",
       "      <th>user_name</th>\n",
       "      <th>user_location</th>\n",
       "      <th>content</th>\n",
       "      <th>lang</th>\n",
       "      <th>replyCount</th>\n",
       "      <th>retweetCount</th>\n",
       "      <th>likeCount</th>\n",
       "      <th>inReplyToTweetId</th>\n",
       "      <th>inReplyToUser_ID</th>\n",
       "      <th>inReplyToUser_name</th>\n",
       "      <th>mentionedUsers_ID</th>\n",
       "      <th>mentionedUsers_name</th>\n",
       "    </tr>\n",
       "    <tr>\n",
       "      <th>date</th>\n",
       "      <th></th>\n",
       "      <th></th>\n",
       "      <th></th>\n",
       "      <th></th>\n",
       "      <th></th>\n",
       "      <th></th>\n",
       "      <th></th>\n",
       "      <th></th>\n",
       "      <th></th>\n",
       "      <th></th>\n",
       "      <th></th>\n",
       "      <th></th>\n",
       "      <th></th>\n",
       "      <th></th>\n",
       "    </tr>\n",
       "  </thead>\n",
       "  <tbody>\n",
       "    <tr>\n",
       "      <th>2022-04-01 23:52:46+00:00</th>\n",
       "      <td>1510042521300307970</td>\n",
       "      <td>1506615071891689475</td>\n",
       "      <td>indiaExam12</td>\n",
       "      <td>Fatehabad, Haryana</td>\n",
       "      <td>Twitter Brings Back Elon Musk’s Horror Show on...</td>\n",
       "      <td>en</td>\n",
       "      <td>0</td>\n",
       "      <td>0</td>\n",
       "      <td>0</td>\n",
       "      <td>NaN</td>\n",
       "      <td>0</td>\n",
       "      <td>0</td>\n",
       "      <td>0</td>\n",
       "      <td>0</td>\n",
       "    </tr>\n",
       "    <tr>\n",
       "      <th>2022-04-01 23:51:26+00:00</th>\n",
       "      <td>1510042183092649990</td>\n",
       "      <td>1497034745573781520</td>\n",
       "      <td>agent_x23</td>\n",
       "      <td>Oneonta, New York</td>\n",
       "      <td>@Sublux8tor @iOfRome72 @Tweets4retweets @tesla...</td>\n",
       "      <td>en</td>\n",
       "      <td>0</td>\n",
       "      <td>0</td>\n",
       "      <td>1</td>\n",
       "      <td>1510040892148645888.0</td>\n",
       "      <td>1025107839080001537</td>\n",
       "      <td>Sublux8tor</td>\n",
       "      <td>[1025107839080001537, 1494906005523775489, 145...</td>\n",
       "      <td>[Sublux8tor, iOfRome72, Tweets4retweets, tesla...</td>\n",
       "    </tr>\n",
       "    <tr>\n",
       "      <th>2022-04-01 23:48:22+00:00</th>\n",
       "      <td>1510041411474837504</td>\n",
       "      <td>1493816517514993667</td>\n",
       "      <td>Tyrone4Tyrone</td>\n",
       "      <td></td>\n",
       "      <td>@thestanceman1 @elonmusk Sure, I chastised a b...</td>\n",
       "      <td>en</td>\n",
       "      <td>0</td>\n",
       "      <td>0</td>\n",
       "      <td>1</td>\n",
       "      <td>1507795059600764928.0</td>\n",
       "      <td>1123267215678160901</td>\n",
       "      <td>thestanceman1</td>\n",
       "      <td>[1123267215678160901, 44196397]</td>\n",
       "      <td>[thestanceman1, elonmusk]</td>\n",
       "    </tr>\n",
       "    <tr>\n",
       "      <th>2022-04-01 23:46:45+00:00</th>\n",
       "      <td>1510041004983963652</td>\n",
       "      <td>1466802565148983307</td>\n",
       "      <td>Brandon36054793</td>\n",
       "      <td></td>\n",
       "      <td>@Twitter Work on a control+alt+delete :) @elon...</td>\n",
       "      <td>en</td>\n",
       "      <td>0</td>\n",
       "      <td>0</td>\n",
       "      <td>0</td>\n",
       "      <td>1509951255388504064.0</td>\n",
       "      <td>783214</td>\n",
       "      <td>Twitter</td>\n",
       "      <td>[783214, 44196397]</td>\n",
       "      <td>[Twitter, elonmusk]</td>\n",
       "    </tr>\n",
       "    <tr>\n",
       "      <th>2022-04-01 23:42:52+00:00</th>\n",
       "      <td>1510040029917110280</td>\n",
       "      <td>1356021036127404034</td>\n",
       "      <td>ThomasHBradford</td>\n",
       "      <td>The Metaverse</td>\n",
       "      <td>@SamTwits @robustus @elonmusk lol why do peopl...</td>\n",
       "      <td>en</td>\n",
       "      <td>0</td>\n",
       "      <td>0</td>\n",
       "      <td>0</td>\n",
       "      <td>1509344789115940864.0</td>\n",
       "      <td>1646555828</td>\n",
       "      <td>SamTwits</td>\n",
       "      <td>[1646555828, 14144398, 44196397]</td>\n",
       "      <td>[SamTwits, robustus, elonmusk]</td>\n",
       "    </tr>\n",
       "  </tbody>\n",
       "</table>\n",
       "</div>"
      ],
      "text/plain": [
       "                                            id              user_ID  \\\n",
       "date                                                                  \n",
       "2022-04-01 23:52:46+00:00  1510042521300307970  1506615071891689475   \n",
       "2022-04-01 23:51:26+00:00  1510042183092649990  1497034745573781520   \n",
       "2022-04-01 23:48:22+00:00  1510041411474837504  1493816517514993667   \n",
       "2022-04-01 23:46:45+00:00  1510041004983963652  1466802565148983307   \n",
       "2022-04-01 23:42:52+00:00  1510040029917110280  1356021036127404034   \n",
       "\n",
       "                                 user_name       user_location  \\\n",
       "date                                                             \n",
       "2022-04-01 23:52:46+00:00      indiaExam12  Fatehabad, Haryana   \n",
       "2022-04-01 23:51:26+00:00        agent_x23   Oneonta, New York   \n",
       "2022-04-01 23:48:22+00:00    Tyrone4Tyrone                       \n",
       "2022-04-01 23:46:45+00:00  Brandon36054793                       \n",
       "2022-04-01 23:42:52+00:00  ThomasHBradford       The Metaverse   \n",
       "\n",
       "                                                                     content  \\\n",
       "date                                                                           \n",
       "2022-04-01 23:52:46+00:00  Twitter Brings Back Elon Musk’s Horror Show on...   \n",
       "2022-04-01 23:51:26+00:00  @Sublux8tor @iOfRome72 @Tweets4retweets @tesla...   \n",
       "2022-04-01 23:48:22+00:00  @thestanceman1 @elonmusk Sure, I chastised a b...   \n",
       "2022-04-01 23:46:45+00:00  @Twitter Work on a control+alt+delete :) @elon...   \n",
       "2022-04-01 23:42:52+00:00  @SamTwits @robustus @elonmusk lol why do peopl...   \n",
       "\n",
       "                          lang replyCount retweetCount likeCount  \\\n",
       "date                                                               \n",
       "2022-04-01 23:52:46+00:00   en          0            0         0   \n",
       "2022-04-01 23:51:26+00:00   en          0            0         1   \n",
       "2022-04-01 23:48:22+00:00   en          0            0         1   \n",
       "2022-04-01 23:46:45+00:00   en          0            0         0   \n",
       "2022-04-01 23:42:52+00:00   en          0            0         0   \n",
       "\n",
       "                                inReplyToTweetId     inReplyToUser_ID  \\\n",
       "date                                                                    \n",
       "2022-04-01 23:52:46+00:00                    NaN                    0   \n",
       "2022-04-01 23:51:26+00:00  1510040892148645888.0  1025107839080001537   \n",
       "2022-04-01 23:48:22+00:00  1507795059600764928.0  1123267215678160901   \n",
       "2022-04-01 23:46:45+00:00  1509951255388504064.0               783214   \n",
       "2022-04-01 23:42:52+00:00  1509344789115940864.0           1646555828   \n",
       "\n",
       "                          inReplyToUser_name  \\\n",
       "date                                           \n",
       "2022-04-01 23:52:46+00:00                  0   \n",
       "2022-04-01 23:51:26+00:00         Sublux8tor   \n",
       "2022-04-01 23:48:22+00:00      thestanceman1   \n",
       "2022-04-01 23:46:45+00:00            Twitter   \n",
       "2022-04-01 23:42:52+00:00           SamTwits   \n",
       "\n",
       "                                                           mentionedUsers_ID  \\\n",
       "date                                                                           \n",
       "2022-04-01 23:52:46+00:00                                                  0   \n",
       "2022-04-01 23:51:26+00:00  [1025107839080001537, 1494906005523775489, 145...   \n",
       "2022-04-01 23:48:22+00:00                    [1123267215678160901, 44196397]   \n",
       "2022-04-01 23:46:45+00:00                                 [783214, 44196397]   \n",
       "2022-04-01 23:42:52+00:00                   [1646555828, 14144398, 44196397]   \n",
       "\n",
       "                                                         mentionedUsers_name  \n",
       "date                                                                          \n",
       "2022-04-01 23:52:46+00:00                                                  0  \n",
       "2022-04-01 23:51:26+00:00  [Sublux8tor, iOfRome72, Tweets4retweets, tesla...  \n",
       "2022-04-01 23:48:22+00:00                          [thestanceman1, elonmusk]  \n",
       "2022-04-01 23:46:45+00:00                                [Twitter, elonmusk]  \n",
       "2022-04-01 23:42:52+00:00                     [SamTwits, robustus, elonmusk]  "
      ]
     },
     "execution_count": 10,
     "metadata": {},
     "output_type": "execute_result"
    }
   ],
   "source": [
    "# set the date as index for downstream aggregation\n",
    "df.set_index('date', inplace=True)\n",
    "df.head()"
   ]
  },
  {
   "cell_type": "code",
   "execution_count": 11,
   "id": "68f894fe",
   "metadata": {},
   "outputs": [],
   "source": [
    "# resample the data by hour and count occurances by hour\n",
    "df_byday = df.resample('H').id.count()"
   ]
  },
  {
   "cell_type": "code",
   "execution_count": 12,
   "id": "7ef1baf0",
   "metadata": {},
   "outputs": [],
   "source": [
    "df_byday_cs = df_byday.cumsum()\n",
    "elon_hourly_df = pd.DataFrame( {'counts':df_byday, 'cumsum':df_byday_cs} )"
   ]
  },
  {
   "cell_type": "code",
   "execution_count": 13,
   "id": "04ea2a21",
   "metadata": {},
   "outputs": [
    {
     "data": {
      "image/png": "[encoded data removed]",
      "text/plain": [
       "<Figure size 1008x720 with 1 Axes>"
      ]
     },
     "metadata": {
      "needs_background": "light"
     },
     "output_type": "display_data"
    }
   ],
   "source": [
    "# hourly tweet rate\n",
    "plt.figure(figsize=(14,10))\n",
    "plt.fill_between(elon_hourly_df.index.tolist(), elon_hourly_df['counts'].tolist())\n",
    "plt.title( \"Hourly Tweets: 'elon musk twitter'\", fontsize=20)\n",
    "plt.ylabel( '#tweets (per hour)', fontsize = 16)\n",
    "plt.xlabel( 'Date', fontsize = 16 )\n",
    "plt.show()"
   ]
  },
  {
   "cell_type": "code",
   "execution_count": 14,
   "id": "435555de",
   "metadata": {},
   "outputs": [
    {
     "data": {
      "image/png": "[encoded data removed]",
      "text/plain": [
       "<Figure size 1008x720 with 1 Axes>"
      ]
     },
     "metadata": {
      "needs_background": "light"
     },
     "output_type": "display_data"
    }
   ],
   "source": [
    "# cummulative tweets\n",
    "plt.figure(figsize=(14,10))\n",
    "plt.fill_between(elon_hourly_df.index.tolist(), elon_hourly_df['cumsum'].tolist())\n",
    "plt.title( \"Cumulative Tweets: 'elon musk twitter'\", fontsize=20)\n",
    "plt.ylabel( '#tweets (M)', fontsize = 16)\n",
    "plt.xlabel( 'Date', fontsize = 16 )\n",
    "plt.show()"
   ]
  },
  {
   "cell_type": "code",
   "execution_count": 7,
   "id": "21514950",
   "metadata": {},
   "outputs": [],
   "source": [
    "# df.to_csv( 'elonmusktwitter_tweets.csv', index=False)"
   ]
  }
 ],
 "metadata": {
  "kernelspec": {
   "display_name": "snscrape_sidequests_p39",
   "language": "python",
   "name": "snscrape_sidequests_p39"
  },
  "language_info": {
   "codemirror_mode": {
    "name": "ipython",
    "version": 3
   },
   "file_extension": ".py",
   "mimetype": "text/x-python",
   "name": "python",
   "nbconvert_exporter": "python",
   "pygments_lexer": "ipython3",
   "version": "3.10.4"
  }
 },
 "nbformat": 4,
 "nbformat_minor": 5
}

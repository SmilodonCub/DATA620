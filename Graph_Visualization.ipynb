{
 "cells": [
  {
   "cell_type": "markdown",
   "id": "9fa7553a",
   "metadata": {},
   "source": [
    "<br>\n",
    "<img src=\"https://www.lancaster.ac.uk/media/lancaster-university/content-assets/images/fst/hero/Hero-Physics-ParticleAccelerator2.jpg\" width=\"100%\" style=\"margin-left:auto; margin-right:auto\">\n",
    "\n",
    "\n",
    "\n",
    "# Graph Visualization: Higgs Boson Twitter Dataset\n",
    "\n",
    "DATA 620\n",
    "Bonnie Cooper, George Cruz Deschamps, Rob Hodde"
   ]
  },
  {
   "cell_type": "markdown",
   "id": "952be798",
   "metadata": {},
   "source": [
    "<br>\n",
    "\n",
    "## 1) Load a graph database of your choosing."
   ]
  },
  {
   "cell_type": "markdown",
   "id": "75244fc2",
   "metadata": {},
   "source": [
    "Exploring the [Higgs Twitter Dataset](https://snap.stanford.edu/data/higgs-twitter.html) using just one of the connectivity layers described in the Nature paper, [The Anatomy of a Scientific Rumor](https://www.nature.com/articles/srep02980). We use the `higgs-reply_network.edgelist` because this is the smallest of the 4 edgelists associated with this study."
   ]
  },
  {
   "cell_type": "code",
   "execution_count": 1,
   "id": "c4cf6a7e",
   "metadata": {},
   "outputs": [],
   "source": [
    "# import the networkx library\n",
    "import networkx as nx\n",
    "import matplotlib.pyplot as plt\n",
    "import pandas as pd"
   ]
  },
  {
   "cell_type": "code",
   "execution_count": 13,
   "id": "d8186f04",
   "metadata": {},
   "outputs": [
    {
     "name": "stdout",
     "output_type": "stream",
     "text": [
      "(32523, 3)\n"
     ]
    },
    {
     "data": {
      "text/html": [
       "<div>\n",
       "<style scoped>\n",
       "    .dataframe tbody tr th:only-of-type {\n",
       "        vertical-align: middle;\n",
       "    }\n",
       "\n",
       "    .dataframe tbody tr th {\n",
       "        vertical-align: top;\n",
       "    }\n",
       "\n",
       "    .dataframe thead th {\n",
       "        text-align: right;\n",
       "    }\n",
       "</style>\n",
       "<table border=\"1\" class=\"dataframe\">\n",
       "  <thead>\n",
       "    <tr style=\"text-align: right;\">\n",
       "      <th></th>\n",
       "      <th>node1</th>\n",
       "      <th>node2</th>\n",
       "      <th>w</th>\n",
       "    </tr>\n",
       "  </thead>\n",
       "  <tbody>\n",
       "    <tr>\n",
       "      <th>0</th>\n",
       "      <td>161345</td>\n",
       "      <td>8614</td>\n",
       "      <td>1</td>\n",
       "    </tr>\n",
       "    <tr>\n",
       "      <th>1</th>\n",
       "      <td>428368</td>\n",
       "      <td>11792</td>\n",
       "      <td>1</td>\n",
       "    </tr>\n",
       "    <tr>\n",
       "      <th>2</th>\n",
       "      <td>77904</td>\n",
       "      <td>10701</td>\n",
       "      <td>1</td>\n",
       "    </tr>\n",
       "    <tr>\n",
       "      <th>3</th>\n",
       "      <td>124554</td>\n",
       "      <td>286277</td>\n",
       "      <td>1</td>\n",
       "    </tr>\n",
       "    <tr>\n",
       "      <th>4</th>\n",
       "      <td>194873</td>\n",
       "      <td>194873</td>\n",
       "      <td>1</td>\n",
       "    </tr>\n",
       "  </tbody>\n",
       "</table>\n",
       "</div>"
      ],
      "text/plain": [
       "    node1   node2  w\n",
       "0  161345    8614  1\n",
       "1  428368   11792  1\n",
       "2   77904   10701  1\n",
       "3  124554  286277  1\n",
       "4  194873  194873  1"
      ]
     },
     "execution_count": 13,
     "metadata": {},
     "output_type": "execute_result"
    }
   ],
   "source": [
    "# import higgs_retweet_network.edgelist\n",
    "cols = [\"node1\", \"node2\", \"w\"]\n",
    "path = 'https://raw.githubusercontent.com/SmilodonCub/DATA620/master/higgs-reply_network.edgelist'\n",
    "higgs_df = pd.read_csv( path, header = None, delimiter=' ' )\n",
    "higgs_df.columns = cols\n",
    "print( higgs_df.shape )\n",
    "higgs_df.head()"
   ]
  },
  {
   "cell_type": "code",
   "execution_count": 3,
   "id": "f5a7962c",
   "metadata": {},
   "outputs": [],
   "source": [
    "g = nx.Graph()\n",
    "for index, row in higgs_df.iterrows():\n",
    "    g.add_edge( row['node1'], row['node2'] )"
   ]
  },
  {
   "cell_type": "markdown",
   "id": "e8da237e",
   "metadata": {},
   "source": [
    "<br>\n",
    "\n",
    "## 2) Create a basic analysis of the graph\n",
    "\n",
    "The analysis should include:\n",
    "* the graph's diameter\n",
    "* at least one other metric of choice"
   ]
  },
  {
   "cell_type": "markdown",
   "id": "10e7c548",
   "metadata": {},
   "source": [
    "before we can calculate descriptive metrics about the network, we need to establish the connectivity..."
   ]
  },
  {
   "cell_type": "code",
   "execution_count": 4,
   "id": "924a778f",
   "metadata": {},
   "outputs": [
    {
     "data": {
      "text/plain": [
       "False"
      ]
     },
     "execution_count": 4,
     "metadata": {},
     "output_type": "execute_result"
    }
   ],
   "source": [
    "# is the graph connected?\n",
    "nx.is_connected(g )"
   ]
  },
  {
   "cell_type": "markdown",
   "id": "f486f478",
   "metadata": {},
   "source": [
    "this edgelist appears to contain multiple disconnected subgraphs. Let's learn more about thier sizes..."
   ]
  },
  {
   "cell_type": "code",
   "execution_count": 12,
   "id": "67158b77",
   "metadata": {},
   "outputs": [
    {
     "name": "stdout",
     "output_type": "stream",
     "text": [
      "There are 10641 graph components\n",
      "Here are the 5 largest:\n"
     ]
    },
    {
     "data": {
      "text/plain": [
       "[12839, 40, 39, 38, 36]"
      ]
     },
     "execution_count": 12,
     "metadata": {},
     "output_type": "execute_result"
    }
   ],
   "source": [
    "# OK then! will seperate into components\n",
    "comps = nx.connected_components( g )\n",
    "lengths = [len(c) for c in sorted(comps, key=len, reverse=True)]\n",
    "print( 'There are ' + str(len( lengths )) + ' graph components' )\n",
    "print( 'Here are the 5 largest:')\n",
    "lengths[0:5]"
   ]
  },
  {
   "cell_type": "markdown",
   "id": "f141d036",
   "metadata": {},
   "source": [
    "we see that there is one major graph component and many comparatively smaller components.  \n",
    "let's move forward using the largest component"
   ]
  },
  {
   "cell_type": "code",
   "execution_count": 6,
   "id": "b4a8c345",
   "metadata": {},
   "outputs": [],
   "source": [
    "# use the largest subgraph\n",
    "largest_cc = max(nx.connected_components(g), key=len)\n",
    "# create a subgraph of the largest component\n",
    "g_sub = g.subgraph(largest_cc).copy()"
   ]
  },
  {
   "cell_type": "markdown",
   "id": "4039bfe2",
   "metadata": {},
   "source": [
    "Return some summary metrics on the graph network:"
   ]
  },
  {
   "cell_type": "code",
   "execution_count": 8,
   "id": "7b67e2b5",
   "metadata": {
    "scrolled": true
   },
   "outputs": [
    {
     "name": "stdout",
     "output_type": "stream",
     "text": [
      "Graph with 12839 nodes and 14123 edges\n"
     ]
    }
   ],
   "source": [
    "# show some basic summary metrics on the graph\n",
    "print(nx.info(g_sub))"
   ]
  },
  {
   "cell_type": "code",
   "execution_count": 9,
   "id": "c587c99d",
   "metadata": {},
   "outputs": [
    {
     "name": "stdout",
     "output_type": "stream",
     "text": [
      "higgs_df graph diameter:  30\n"
     ]
    }
   ],
   "source": [
    "# graph diameter\n",
    "d = nx.diameter( g_sub )\n",
    "print( \"higgs_df graph diameter: \", d )"
   ]
  },
  {
   "cell_type": "markdown",
   "id": "696eaf52",
   "metadata": {},
   "source": [
    "The distance measure tells us that the shortest distance between the most distant nodes is 30"
   ]
  },
  {
   "cell_type": "code",
   "execution_count": 10,
   "id": "6cca5d04",
   "metadata": {},
   "outputs": [
    {
     "name": "stdout",
     "output_type": "stream",
     "text": [
      "Network density: 0.00017136746981906772\n"
     ]
    }
   ],
   "source": [
    "# describe the graph density\n",
    "density = nx.density(g_sub)\n",
    "print(\"Network density:\", density)"
   ]
  },
  {
   "cell_type": "markdown",
   "id": "3cdfcf7e",
   "metadata": {},
   "source": [
    "For reference: a fully disconnected network would have a density value == 0 whereas a fully connected network would have a density value of 1.  \n",
    "We see that our Higgs Boson reply network is sparsely connected.  \n",
    "\n",
    "Would you expect the Higgs Boson retweet network to have a higher or lower connectivity density?  \n",
    "(my guess is higher, but I don't use Twitter so....)"
   ]
  },
  {
   "cell_type": "markdown",
   "id": "15abb076",
   "metadata": {},
   "source": [
    "<br>\n",
    "\n",
    "## 3) Use a visualization tool of your choice\n",
    "\n",
    "Display the graph network with either Neo4j, Gephi, etc."
   ]
  },
  {
   "cell_type": "code",
   "execution_count": null,
   "id": "cdfcc89e",
   "metadata": {},
   "outputs": [],
   "source": []
  },
  {
   "cell_type": "markdown",
   "id": "89ab9031",
   "metadata": {},
   "source": [
    "<br>\n",
    "\n",
    "## 4) Record a short summary video"
   ]
  },
  {
   "cell_type": "code",
   "execution_count": null,
   "id": "900ffcaf",
   "metadata": {},
   "outputs": [],
   "source": []
  }
 ],
 "metadata": {
  "kernelspec": {
   "display_name": "Python 3 (ipykernel)",
   "language": "python",
   "name": "python3"
  },
  "language_info": {
   "codemirror_mode": {
    "name": "ipython",
    "version": 3
   },
   "file_extension": ".py",
   "mimetype": "text/x-python",
   "name": "python",
   "nbconvert_exporter": "python",
   "pygments_lexer": "ipython3",
   "version": "3.7.7"
  }
 },
 "nbformat": 4,
 "nbformat_minor": 5
}

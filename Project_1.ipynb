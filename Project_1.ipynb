{
 "cells": [
  {
   "cell_type": "markdown",
   "id": "2ab9f7d6",
   "metadata": {},
   "source": [
    "<br>\n",
    "\n",
    "# Project 1\n",
    "\n",
    "DATA 620\n",
    "Bonnie Cooper, George Cruz Deschamps, Rob Hodde"
   ]
  },
  {
   "cell_type": "markdown",
   "id": "d28b1956",
   "metadata": {},
   "source": [
    "<br>\n",
    "\n",
    "## Assignment Information\n",
    "\n",
    "For your first project, you are asked to\n",
    "\n",
    "* Identify and load a network dataset that has some categorical information available for each node.\n",
    "* For each of the nodes in the dataset, calculate degree centrality and eigenvector centrality.\n",
    "* Compare your centrality measures across your categorical groups.\n",
    "\n",
    "For example, using the dataset from a study of romantic relationships among high school students in Columbus, Ohio [http://researchnews.osu.edu/archive/chains.htm], you might want to determine if there are any differences in your calculated centrality measures between the two sexes.  You might use a t-test or another statistical measure to support your findings.  \n",
    "\n",
    "You may work in a small group.  Your project should be delivered in an Jupyter Notebook, and posted in GitHub.  Your project is due end of day Monday. You and your team should created a video presentation about your project. You should be ready to present your project in our Meet-up on Thursday."
   ]
  }
 ],
 "metadata": {
  "kernelspec": {
   "display_name": "Python 3 (ipykernel)",
   "language": "python",
   "name": "python3"
  },
  "language_info": {
   "codemirror_mode": {
    "name": "ipython",
    "version": 3
   },
   "file_extension": ".py",
   "mimetype": "text/x-python",
   "name": "python",
   "nbconvert_exporter": "python",
   "pygments_lexer": "ipython3",
   "version": "3.7.7"
  }
 },
 "nbformat": 4,
 "nbformat_minor": 5
}

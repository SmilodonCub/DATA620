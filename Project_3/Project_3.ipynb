{
 "cells": [
  {
   "cell_type": "markdown",
   "id": "5913ba64",
   "metadata": {},
   "source": [
    "<br>\n",
    "\n",
    "<img src=\"names.png\" width=\"100%\" style=\"margin-left:auto; margin-right:auto\">\n",
    "\n",
    "<br>\n",
    "\n",
    "# Project 3 - Classification of Names by Gender\n",
    "\n",
    "For this project, we will be using the `names` corpora from the `nltk` library.\n",
    "**Goal** - Using any of the three classifiers described in Chapter 6 of Natural Language Processing with Python,\n",
    "and any features you can think of, build the best name gender classifier you can.  \n",
    "\n",
    "1. Begin by splitting the Names Corpus into three subsets: 500 words for the test set, 500 words for the devtest set, and the remaining 6900 words for the training set. \n",
    "2. Then, starting with the example name gender classifier, make incremental improvements. Use the dev-test set to check your progress. \n",
    "3. Once you are satisfied with your classifier, check its final performance on the test set.\n",
    "4. How does the performance on the test set compare to the performance on the dev-test set? Is this what you'd expect?"
   ]
  },
  {
   "cell_type": "markdown",
   "id": "e98a001f",
   "metadata": {},
   "source": [
    "<br>\n",
    "\n",
    "## 0) Preprocessing & EDA of the `names` corpus\n",
    "\n",
    "The following code will set up the python environment, import the data and perform some light exploratory data analysis."
   ]
  },
  {
   "cell_type": "code",
   "execution_count": 58,
   "id": "0736c089",
   "metadata": {},
   "outputs": [],
   "source": [
    "# libraries used for this analysis\n",
    "import nltk\n",
    "import matplotlib.pyplot as plt\n",
    "import pandas as pd\n",
    "import numpy as np\n",
    "from sklearn.model_selection import train_test_split\n",
    "from IPython.display import Markdown as md"
   ]
  },
  {
   "cell_type": "code",
   "execution_count": 38,
   "id": "98849f82",
   "metadata": {},
   "outputs": [
    {
     "name": "stdout",
     "output_type": "stream",
     "text": [
      "Number of Male Names:  2943\n",
      "Number of Female Names:  5001\n",
      "Number of Unisex names:  365\n"
     ]
    }
   ],
   "source": [
    "# load the nltk names corpus\n",
    "names = nltk.corpus.names\n",
    "\n",
    "# instantiate lists of 'male' and 'female' names\n",
    "male_names = names.words( 'male.txt' )\n",
    "female_names = names.words( 'female.txt' )\n",
    "print( 'Number of Male Names: ', len( male_names ) )\n",
    "print( 'Number of Female Names: ', len( female_names ) )\n",
    "\n",
    "#identify names occurring in both genders as unisex\n",
    "unis = [ w for w in male_names if w in female_names ]  \n",
    "print( 'Number of Unisex names: ', len( unis ) )"
   ]
  },
  {
   "cell_type": "markdown",
   "id": "75c76efb",
   "metadata": {},
   "source": [
    "<br>\n",
    "\n",
    "The number of names by gender is not balanced in the dataset. Furthermore, there are a non-trivial number of names that appear as either 'male' or 'female'. The following code will organize the data as a pandas dataframe and visualize the number of names by gender..."
   ]
  },
  {
   "cell_type": "code",
   "execution_count": 39,
   "id": "208aade0",
   "metadata": {},
   "outputs": [
    {
     "data": {
      "text/plain": [
       "(7944, 2)"
      ]
     },
     "execution_count": 39,
     "metadata": {},
     "output_type": "execute_result"
    }
   ],
   "source": [
    "# reorganize the data as a pandas dataframe\n",
    "d = {'name': male_names, 'gender': 'male'} #adding gender as second column...\n",
    "mdf = pd.DataFrame(data=d)\n",
    "d = {'name': female_names, 'gender': 'female'}\n",
    "fdf = pd.DataFrame(data=d)\n",
    "df = pd.concat([mdf,fdf], ignore_index=True)\n",
    "df.shape"
   ]
  },
  {
   "cell_type": "code",
   "execution_count": 40,
   "id": "3d0af295",
   "metadata": {},
   "outputs": [
    {
     "name": "stdout",
     "output_type": "stream",
     "text": [
      "(7944, 2)\n"
     ]
    }
   ],
   "source": [
    "# change the 'gender' value to unisex, for every 'name' that is in the list 'unis'\n",
    "df.loc[(df.name.isin(unis)),'gender']='unisex'\n",
    "print( df.shape )"
   ]
  },
  {
   "cell_type": "code",
   "execution_count": 41,
   "id": "7a432c13",
   "metadata": {},
   "outputs": [
    {
     "name": "stdout",
     "output_type": "stream",
     "text": [
      "#Rows before dropping duplicates:  7944\n",
      "(7579, 2)\n",
      "#Rows after dropping duplicates:  7579\n"
     ]
    }
   ],
   "source": [
    "print( '#Rows before dropping duplicates: ', df.shape[0] )\n",
    "df = df.drop_duplicates().reset_index(drop=True)\n",
    "print( df.shape )\n",
    "print( '#Rows after dropping duplicates: ', df.shape[0] )"
   ]
  },
  {
   "cell_type": "code",
   "execution_count": 42,
   "id": "10c863b8",
   "metadata": {},
   "outputs": [
    {
     "data": {
      "text/plain": [
       "female    61.169020\n",
       "male      34.015042\n",
       "unisex     4.815939\n",
       "Name: gender, dtype: float64"
      ]
     },
     "execution_count": 42,
     "metadata": {},
     "output_type": "execute_result"
    }
   ],
   "source": [
    "df.gender.value_counts(normalize=True) * 100  #calculate percentage of each gender value"
   ]
  },
  {
   "cell_type": "code",
   "execution_count": 43,
   "id": "af4c9065",
   "metadata": {},
   "outputs": [
    {
     "data": {
      "image/png": "[encoded data removed]",
      "text/plain": [
       "<Figure size 720x576 with 1 Axes>"
      ]
     },
     "metadata": {
      "needs_background": "light"
     },
     "output_type": "display_data"
    }
   ],
   "source": [
    "#create bar chart of the three gender values by percentage\n",
    "plt.figure(figsize=(10,8))\n",
    "df['gender'].value_counts(normalize=True).mul(100).round(1).plot(kind='bar', rot=0);\n",
    "plt.title( 'Names x Gender', fontsize=20)\n",
    "plt.xlabel( 'Gender' , fontsize=15)\n",
    "plt.ylabel( '% Observations', fontsize=15)\n",
    "plt.xticks(fontsize= 15)\n",
    "plt.yticks(fontsize= 15)\n",
    "plt.show()"
   ]
  },
  {
   "cell_type": "code",
   "execution_count": 44,
   "id": "7a671acc",
   "metadata": {},
   "outputs": [],
   "source": [
    "letters = ['a', 'b', 'c', 'd', 'e', 'f', 'g', 'h', 'i', 'j', \n",
    "           'k', 'l', 'm', 'n', 'o', 'p', 'q', 'r', 's', 't',\n",
    "           'u', 'v', 'w', 'x', 'y', 'z' ]\n",
    "\n",
    "mfreq = {key:0 for key in letters}  #to check last letter of male name\n",
    "ffreq = {key:0 for key in letters}  #                        female  \n",
    "ufreq = {key:0 for key in letters}  #                        unisex\n",
    "fmfreq = {key:0 for key in letters} #        first           male\n",
    "fffreq = {key:0 for key in letters} #                        female\n",
    "fufreq = {key:0 for key in letters} #                        unisex\n",
    "\n",
    "#Assign to each dictionary above the count of names that start / end with each letter of the alphabet, according to gender\n",
    "for idx in range( 0, df.shape[0] ):\n",
    "    last_letter = df['name'][idx].strip()[-1]\n",
    "    first_letter = df['name'][idx].lower().strip()[0]\n",
    "    if df['gender'][idx] == 'female':\n",
    "        ffreq[last_letter] += 1\n",
    "        fffreq[first_letter] += 1\n",
    "    elif df['gender'][idx] == 'male':\n",
    "        mfreq[last_letter] += 1\n",
    "        fmfreq[first_letter] += 1\n",
    "    elif df['gender'][idx] == 'unisex':\n",
    "        ufreq[last_letter] += 1\n",
    "        fufreq[first_letter] += 1\n",
    "\n",
    "#consolidate into two dataframes        \n",
    "d = {'male': mfreq.values(), 'female': ffreq.values(), 'unisex': ufreq.values()}\n",
    "lastdf = pd.DataFrame(data=d, index=mfreq.keys())\n",
    "d = {'male': fmfreq.values(), 'female': fffreq.values(), 'unisex': fufreq.values()}\n",
    "firstdf = pd.DataFrame(data=d, index=fmfreq.keys())\n",
    "\n",
    "#convert counts into percentages\n",
    "cols = ['male', 'female', 'unisex']\n",
    "for col in cols:\n",
    "    lastdf[col] = round( (lastdf[col] / lastdf[col].sum()) * 100, 2 )\n",
    "    firstdf[col] = round( (firstdf[col] / firstdf[col].sum()) * 100, 2 )"
   ]
  },
  {
   "cell_type": "code",
   "execution_count": 45,
   "id": "efcb6a75",
   "metadata": {},
   "outputs": [
    {
     "data": {
      "image/png": "[encoded data removed]",
      "text/plain": [
       "<Figure size 720x576 with 1 Axes>"
      ]
     },
     "metadata": {
      "needs_background": "light"
     },
     "output_type": "display_data"
    }
   ],
   "source": [
    "#plot distributions of first-letter-of-name, by gender\n",
    "firstdf.plot.line(figsize=(10,8))\n",
    "plt.title( 'First Letter: Conditional Percentage Distribution', fontsize=20)\n",
    "plt.xlabel( 'Samples' , fontsize=15)\n",
    "plt.ylabel( '%', fontsize=15)\n",
    "plt.xticks(ticks = np.arange(0, len(letters), 1.0), labels = letters, fontsize= 15)\n",
    "plt.yticks(fontsize= 15)\n",
    "plt.show()"
   ]
  },
  {
   "cell_type": "code",
   "execution_count": 46,
   "id": "b83c6059",
   "metadata": {},
   "outputs": [
    {
     "data": {
      "image/png": "[encoded data removed]",
      "text/plain": [
       "<Figure size 720x576 with 1 Axes>"
      ]
     },
     "metadata": {
      "needs_background": "light"
     },
     "output_type": "display_data"
    }
   ],
   "source": [
    "#plot distributions of last-letter-of-name, by gender\n",
    "lastdf.plot.line(figsize=(10,8))\n",
    "plt.title( 'Last Letter: Conditional Percentage Distribution', fontsize=20)\n",
    "plt.xlabel( 'Samples' , fontsize=15)\n",
    "plt.ylabel( '%', fontsize=15)\n",
    "plt.xticks(fontsize= 15)\n",
    "plt.yticks(fontsize= 15)\n",
    "plt.xticks(ticks = np.arange(0, len(letters), 1.0), labels = letters, fontsize= 15)\n",
    "plt.show()"
   ]
  },
  {
   "cell_type": "markdown",
   "id": "8b9d428f",
   "metadata": {},
   "source": [
    "<br>\n",
    "\n",
    "From a cursory exploration of the data, we learned that there is a sizable difference between the number of 'female' and 'male' names. Furthermore, there are several hundred names which can be considered either male or female (`unisex`). The data was then organized into a `pandas` dataframe to hold the names in one column and the corresponding gender in another. If a name was considered unisex, the gender label was changed to reflect this and duplicate entries were removed.  \n",
    "\n",
    "To learn about potential features of gendered names, we then created two visualizations that show the percentage of names for each gender designation that either started or ended with each letter of the alphabet. We were interested in learning about particular patterns in the data that could be used as features for downstream models. A promising feature would be a letter where either gender designation has a noticeably higher percentage than the others (unisex included). With this in mind, we noticed:  \n",
    "* Names that start with 'w' are more likely to be male\n",
    "* Names that end in 'y' are likely to be unisex\n",
    "* Names that end in 'a' are likely to be female\n",
    "* Names that end with either 'r', 's', or 't' or more likely to be male"
   ]
  },
  {
   "cell_type": "markdown",
   "id": "efc6488f",
   "metadata": {},
   "source": [
    "<br>\n",
    "\n",
    "## 1) Splitting the Names Corpus into three subsets\n",
    "\n",
    "We will use `sklearn.train_test_split` to split the data into train, devtest and test splits of the data. Additionally, we will opt to `stratify` the data so that the relative class frequencies are approximately preserved across the different data splits.  \n",
    "\n",
    "The data is to be split a specific way:\n",
    "* 500 words for the test set\n",
    "* 500 words for the devtest set\n",
    "* the remaining 6900 words for the training set."
   ]
  },
  {
   "cell_type": "code",
   "execution_count": 47,
   "id": "e2cc1c3d",
   "metadata": {},
   "outputs": [],
   "source": [
    "#sequester 500 names for a test set \n",
    "X_train, X_test, y_train, y_test = train_test_split(df['name'], df['gender'],\n",
    "                                                    stratify=df['gender'], \n",
    "                                                    test_size=500)\n",
    "                                                    \n",
    "#from the remaining records, sequester another 500 names for a dev-test set\n",
    "X_train, X_dev, y_train, y_dev = train_test_split(X_train, y_train,\n",
    "                                                    stratify=y_train, \n",
    "                                                    test_size=500)"
   ]
  },
  {
   "cell_type": "markdown",
   "id": "e9754d7d",
   "metadata": {},
   "source": [
    "Verify that the sizes of the train, dev and test splits are as expected:"
   ]
  },
  {
   "cell_type": "code",
   "execution_count": 48,
   "id": "7f3984f8",
   "metadata": {},
   "outputs": [
    {
     "name": "stdout",
     "output_type": "stream",
     "text": [
      "Train set length:  6579\n",
      "Dev set length:  500\n",
      "Test set length:  500\n"
     ]
    }
   ],
   "source": [
    "print( 'Train set length: ', X_train.shape[0] )\n",
    "print( 'Dev set length: ', X_dev.shape[0] )\n",
    "print( 'Test set length: ', X_test.shape[0] )"
   ]
  },
  {
   "cell_type": "markdown",
   "id": "c02692e1",
   "metadata": {},
   "source": [
    "<br>\n",
    "\n",
    "## 2) Build and Improve a Gender Classifier\n",
    "\n",
    "Starting with the example classifier given in chapter 6 of the NLTK book: Natural Language Processing with Python, make incremental improvements. Use the dev-test set to check your progress.  \n",
    "\n",
    "\n",
    "### Basic Gender Features\n",
    "The code below shows the example classifier:"
   ]
  },
  {
   "cell_type": "code",
   "execution_count": 49,
   "id": "890136b0",
   "metadata": {},
   "outputs": [],
   "source": [
    "# a feature extractor that builds a dictionary containing relevant information (i.e. last letters of the name)\n",
    "def gender_features( word ):\n",
    "    return { 'last_letter': word[-1], 'first_letter':word[0], 'length':len( word ) }"
   ]
  },
  {
   "cell_type": "code",
   "execution_count": 50,
   "id": "276310bd",
   "metadata": {},
   "outputs": [],
   "source": [
    "#create a training list of gender features (predictors), and the gender itself (response)\n",
    "train_set = []\n",
    "for idx in X_train.index:\n",
    "    train_set.append(( gender_features(X_train[idx]), y_train[idx] ))  \n",
    "#train_set[:3]"
   ]
  },
  {
   "cell_type": "code",
   "execution_count": 51,
   "id": "1579779a",
   "metadata": {},
   "outputs": [],
   "source": [
    "#establish a baseline model to classify names by gender\n",
    "classifier = nltk.NaiveBayesClassifier.train( train_set )"
   ]
  },
  {
   "cell_type": "code",
   "execution_count": 52,
   "id": "073aba82",
   "metadata": {},
   "outputs": [
    {
     "name": "stdout",
     "output_type": "stream",
     "text": [
      "male\n",
      "female\n"
     ]
    }
   ],
   "source": [
    "print( classifier.classify( gender_features( 'Christopher' ) ) )\n",
    "print( classifier.classify( gender_features( 'Christine' ) ) )"
   ]
  },
  {
   "cell_type": "code",
   "execution_count": 79,
   "id": "71f7fb1f",
   "metadata": {},
   "outputs": [],
   "source": [
    "#create a dev-test list of gender features (predictors), and the gender itself (response)\n",
    "dev_set = []\n",
    "for idx in X_dev.index:\n",
    "    dev_set.append(( gender_features(X_dev[idx]), y_dev[idx] ))\n",
    "#dev_set[:3]"
   ]
  },
  {
   "cell_type": "code",
   "execution_count": 80,
   "id": "143c2cfd",
   "metadata": {},
   "outputs": [
    {
     "name": "stdout",
     "output_type": "stream",
     "text": [
      "Accuracy:  0.748\n",
      " \n",
      "Most Informative Features\n",
      "          last 2 letters = 'na'           female : male   =    145.5 : 1.0\n",
      "             last_letter = 'k'              male : female =     66.4 : 1.0\n",
      "          last 2 letters = 'la'           female : male   =     64.9 : 1.0\n",
      "          last 2 letters = 'ra'           female : male   =     55.7 : 1.0\n",
      "             last_letter = 'a'            female : male   =     48.4 : 1.0\n",
      "          last 2 letters = 'ia'           female : male   =     46.5 : 1.0\n",
      "          last 2 letters = 'ta'           female : male   =     39.2 : 1.0\n",
      "          last 2 letters = 'ld'             male : female =     38.0 : 1.0\n",
      "          last 2 letters = 'us'             male : female =     36.8 : 1.0\n",
      "          last 2 letters = 'rt'             male : female =     29.8 : 1.0\n",
      "          last 2 letters = 'do'             male : female =     26.3 : 1.0\n",
      "          last 2 letters = 'rd'             male : female =     23.2 : 1.0\n",
      "          last 2 letters = 'ch'             male : female =     21.6 : 1.0\n",
      "          last 2 letters = 'os'             male : female =     20.4 : 1.0\n",
      "             last_letter = 'f'              male : female =     17.6 : 1.0\n",
      "None\n"
     ]
    }
   ],
   "source": [
    "#run the trained model against the dev-test names and print accuracy, feature importance\n",
    "accur_nb1 = nltk.classify.accuracy( classifier, dev_set )  #Rob assigned accuracy score to variable in hopes of displaying it inline in Markdown but no dice. \n",
    "print( 'Accuracy: ', accur_nb1 )\n",
    "print( ' ' )\n",
    "print( classifier.show_most_informative_features( 15 ) )\n"
   ]
  },
  {
   "cell_type": "markdown",
   "id": "3c1f0752",
   "metadata": {},
   "source": [
    "### Expanded Gender Features\n",
    "\n",
    "Here we will build on this approach and extract several more features to distinguish male, female and unisex names"
   ]
  },
  {
   "cell_type": "code",
   "execution_count": 82,
   "id": "0f3482af",
   "metadata": {},
   "outputs": [],
   "source": [
    "# an expanded feature extractor\n",
    "def gender_features2( word ):\n",
    "    return { 'last_letter': word[-1], \n",
    "            'first_letter':word[0], \n",
    "            'length':len( word ),\n",
    "            'last 2 letters': word[-2:],\n",
    "            'first 2 letters': word[:2] }"
   ]
  },
  {
   "cell_type": "code",
   "execution_count": 83,
   "id": "faf68e39",
   "metadata": {},
   "outputs": [
    {
     "name": "stdout",
     "output_type": "stream",
     "text": [
      "Accuracy:  0.784\n",
      " \n",
      "Most Informative Features\n",
      "          last 2 letters = 'na'           female : male   =    145.5 : 1.0\n",
      "             last_letter = 'k'              male : female =     66.4 : 1.0\n",
      "          last 2 letters = 'la'           female : male   =     64.9 : 1.0\n",
      "          last 2 letters = 'ra'           female : male   =     55.7 : 1.0\n",
      "             last_letter = 'a'            female : male   =     48.4 : 1.0\n",
      "          last 2 letters = 'ia'           female : male   =     46.5 : 1.0\n",
      "          last 2 letters = 'ta'           female : male   =     39.2 : 1.0\n",
      "          last 2 letters = 'ld'             male : female =     38.0 : 1.0\n",
      "          last 2 letters = 'us'             male : female =     36.8 : 1.0\n",
      "          last 2 letters = 'rt'             male : female =     29.8 : 1.0\n",
      "          last 2 letters = 'do'             male : female =     26.3 : 1.0\n",
      "          last 2 letters = 'rd'             male : female =     23.2 : 1.0\n",
      "          last 2 letters = 'ch'             male : female =     21.6 : 1.0\n",
      "          last 2 letters = 'os'             male : female =     20.4 : 1.0\n",
      "             last_letter = 'f'              male : female =     17.6 : 1.0\n",
      "None\n"
     ]
    }
   ],
   "source": [
    "#repopulate the training and dev-test lists, this time using the expanded predictor set\n",
    "#to train the same Bayes classifier as above\n",
    "\n",
    "train_set = []\n",
    "for idx in X_train.index:\n",
    "    train_set.append(( gender_features2(X_train[idx]), y_train[idx] ))\n",
    "    \n",
    "classifier = nltk.NaiveBayesClassifier.train( train_set )\n",
    "\n",
    "dev_set = []\n",
    "for idx in X_dev.index:\n",
    "    dev_set.append(( gender_features2(X_dev[idx]), y_dev[idx] ))\n",
    "    \n",
    "accur_nb2 = nltk.classify.accuracy( classifier, dev_set )  \n",
    "print( 'Accuracy: ', accur_nb2 )    \n",
    "print( ' ' )\n",
    "print( classifier.show_most_informative_features( 15 ) )"
   ]
  },
  {
   "cell_type": "markdown",
   "id": "72eecd21",
   "metadata": {},
   "source": [
    "By adding to the feature extractor we were able to increase the accuracy of the predictions on the dev_set from approximately 75% to 79% (varies at runtime). \n",
    "\n",
    "In comparing the output of the most informative features, we see that adding the `last 2 letters` for the had a greater impact than `first 2 letters`\n",
    "\n",
    "<br>"
   ]
  },
  {
   "cell_type": "markdown",
   "id": "3f5594c5",
   "metadata": {},
   "source": [
    "### A very different approach...\n",
    "\n",
    "Option 1: we could try to add more and more features to the feature extractor.  \n",
    "Option 2: we could try different multinomial classifiers.  \n",
    "However: let's try an entirely different approach all together!  \n",
    "\n",
    "We would like to try to perform a classification using the embeddings generated with a pre-trained 🤗 transformers model.  \n",
    "\n",
    "**Basic example: using CharacterBERT for binary classification**"
   ]
  },
  {
   "cell_type": "code",
   "execution_count": 57,
   "id": "55bb68ae",
   "metadata": {},
   "outputs": [
    {
     "ename": "ModuleNotFoundError",
     "evalue": "No module named 'transformers'",
     "output_type": "error",
     "traceback": [
      "\u001b[1;31m---------------------------------------------------------------------------\u001b[0m",
      "\u001b[1;31mModuleNotFoundError\u001b[0m                       Traceback (most recent call last)",
      "\u001b[1;32m~\\AppData\\Local\\Temp/ipykernel_21440/3704208330.py\u001b[0m in \u001b[0;36m<module>\u001b[1;34m\u001b[0m\n\u001b[1;32m----> 1\u001b[1;33m \u001b[1;32mfrom\u001b[0m \u001b[0mtransformers\u001b[0m \u001b[1;32mimport\u001b[0m \u001b[0mBertForSequenceClassification\u001b[0m\u001b[1;33m,\u001b[0m \u001b[0mBertTokenizer\u001b[0m\u001b[1;33m,\u001b[0m \u001b[0mBertConfig\u001b[0m\u001b[1;33m\u001b[0m\u001b[1;33m\u001b[0m\u001b[0m\n\u001b[0m\u001b[0;32m      2\u001b[0m \u001b[1;32mfrom\u001b[0m \u001b[0mcharacter_bert\u001b[0m\u001b[1;33m.\u001b[0m\u001b[0mmodeling\u001b[0m\u001b[1;33m.\u001b[0m\u001b[0mcharacter_bert\u001b[0m \u001b[1;32mimport\u001b[0m \u001b[0mCharacterBertModel\u001b[0m\u001b[1;33m\u001b[0m\u001b[1;33m\u001b[0m\u001b[0m\n\u001b[0;32m      3\u001b[0m \u001b[1;32mfrom\u001b[0m \u001b[0mcharacter_bert\u001b[0m\u001b[1;33m.\u001b[0m\u001b[0mutils\u001b[0m\u001b[1;33m.\u001b[0m\u001b[0mcharacter_cnn\u001b[0m \u001b[1;32mimport\u001b[0m \u001b[0mCharacterIndexer\u001b[0m\u001b[1;33m\u001b[0m\u001b[1;33m\u001b[0m\u001b[0m\n\u001b[0;32m      4\u001b[0m \u001b[1;32mfrom\u001b[0m \u001b[0mtqdm\u001b[0m \u001b[1;32mimport\u001b[0m \u001b[0mtqdm\u001b[0m\u001b[1;33m,\u001b[0m \u001b[0mtrange\u001b[0m\u001b[1;33m\u001b[0m\u001b[1;33m\u001b[0m\u001b[0m\n\u001b[0;32m      5\u001b[0m \u001b[1;32mimport\u001b[0m \u001b[0mtorch\u001b[0m\u001b[1;33m\u001b[0m\u001b[1;33m\u001b[0m\u001b[0m\n",
      "\u001b[1;31mModuleNotFoundError\u001b[0m: No module named 'transformers'"
     ]
    }
   ],
   "source": [
    "from transformers import BertForSequenceClassification, BertTokenizer, BertConfig\n",
    "from character_bert.modeling.character_bert import CharacterBertModel\n",
    "from character_bert.utils.character_cnn import CharacterIndexer\n",
    "from tqdm import tqdm, trange\n",
    "import torch\n",
    "import torch.nn as nn\n",
    "from torch.utils.data import TensorDataset, DataLoader, RandomSampler, SequentialSampler\n",
    "import time\n",
    "from transformers import AdamW\n",
    "from sklearn.metrics import classification_report"
   ]
  },
  {
   "cell_type": "code",
   "execution_count": null,
   "id": "b3bfb20f",
   "metadata": {},
   "outputs": [],
   "source": [
    "config = BertConfig.from_pretrained('bert-base-uncased', num_labels=3) # 3 posible gender name labels\n",
    "model = BertForSequenceClassification(config=config)"
   ]
  },
  {
   "cell_type": "code",
   "execution_count": null,
   "id": "6570344a",
   "metadata": {},
   "outputs": [],
   "source": [
    "#now replace bert with character bert embeddings \n",
    "character_bert_model = CharacterBertModel.from_pretrained('./character_bert/pretrained-models/general_character_bert/')\n",
    "model.bert = character_bert_model"
   ]
  },
  {
   "cell_type": "markdown",
   "id": "97d73d4e",
   "metadata": {},
   "source": [
    "BERT and BERTlike transformers models use WordPiece for text sequence tokenizations. A crucial difference betweer BERT and CharacterBERT is that CharacterBERT replaces WordPiece with a CharacterCNN. The combined use of CharacterIndexer and the CharacterCNN results in tokenization of the text input by character."
   ]
  },
  {
   "cell_type": "code",
   "execution_count": null,
   "id": "944d75ad",
   "metadata": {},
   "outputs": [
    {
     "data": {
      "text/plain": [
       "CharacterCNN(\n",
       "  (char_conv_0): Conv1d(16, 32, kernel_size=(1,), stride=(1,))\n",
       "  (char_conv_1): Conv1d(16, 32, kernel_size=(2,), stride=(1,))\n",
       "  (char_conv_2): Conv1d(16, 64, kernel_size=(3,), stride=(1,))\n",
       "  (char_conv_3): Conv1d(16, 128, kernel_size=(4,), stride=(1,))\n",
       "  (char_conv_4): Conv1d(16, 256, kernel_size=(5,), stride=(1,))\n",
       "  (char_conv_5): Conv1d(16, 512, kernel_size=(6,), stride=(1,))\n",
       "  (char_conv_6): Conv1d(16, 1024, kernel_size=(7,), stride=(1,))\n",
       "  (_highways): Highway(\n",
       "    (_layers): ModuleList(\n",
       "      (0): Linear(in_features=2048, out_features=4096, bias=True)\n",
       "      (1): Linear(in_features=2048, out_features=4096, bias=True)\n",
       "    )\n",
       "  )\n",
       "  (_projection): Linear(in_features=2048, out_features=768, bias=True)\n",
       ")"
      ]
     },
     "execution_count": 24,
     "metadata": {},
     "output_type": "execute_result"
    }
   ],
   "source": [
    "model.bert.embeddings.word_embeddings  # wordpieces are replaced with a CharacterCNN"
   ]
  },
  {
   "cell_type": "code",
   "execution_count": null,
   "id": "e40fe9d0",
   "metadata": {},
   "outputs": [],
   "source": [
    "tokenizer = BertTokenizer.from_pretrained('bert-base-uncased')"
   ]
  },
  {
   "cell_type": "code",
   "execution_count": null,
   "id": "635f5bd4",
   "metadata": {},
   "outputs": [],
   "source": [
    "#format the train dataset\n",
    "y_facttrain, uniq = pd.factorize(y_train) #convert strings to label encodings\n",
    "X = X_train.tolist()\n",
    "tokenized_train = [tokenizer.basic_tokenizer.tokenize(text) for text in X] #have used basic tokenizer, other tokenizers can also be used"
   ]
  },
  {
   "cell_type": "code",
   "execution_count": null,
   "id": "f71bafa4",
   "metadata": {},
   "outputs": [],
   "source": [
    "#format the dev dataset\n",
    "y_factdev, uniq = pd.factorize(y_dev) #convert strings to label encodings\n",
    "X_dev = X_dev.tolist()\n",
    "tokenized_dev = [tokenizer.basic_tokenizer.tokenize(text) for text in X_dev] #have used basic tokenizer, other tokenizers can also be used"
   ]
  },
  {
   "cell_type": "code",
   "execution_count": null,
   "id": "5b2e1fe5",
   "metadata": {},
   "outputs": [],
   "source": [
    "indexer = CharacterIndexer()  # This converts each token into a list of character indices\n",
    "input_tensor_train = indexer.as_padded_tensor(tokenized_train)\n",
    "input_tensor_dev = indexer.as_padded_tensor(tokenized_dev)"
   ]
  },
  {
   "cell_type": "code",
   "execution_count": null,
   "id": "5825d013",
   "metadata": {},
   "outputs": [],
   "source": [
    "batch_size = 32\n",
    "\n",
    "y_facttrain, y_factdev = torch.tensor(y_facttrain), torch.tensor(y_factdev)\n",
    "train_data = TensorDataset(input_tensor_train, y_facttrain)\n",
    "train_dataloader = DataLoader(train_data,batch_size=batch_size)\n",
    "\n",
    "val_data = TensorDataset(input_tensor_dev, y_factdev)\n",
    "val_dataloader = DataLoader(val_data,batch_size=batch_size)"
   ]
  },
  {
   "cell_type": "code",
   "execution_count": null,
   "id": "7fdbfcb0",
   "metadata": {},
   "outputs": [],
   "source": [
    "# if available, use GPU else CPU\n",
    "device = torch.device(\"cuda:0\" if torch.cuda.is_available() else \"cpu\")"
   ]
  },
  {
   "cell_type": "code",
   "execution_count": null,
   "id": "cab8e017",
   "metadata": {},
   "outputs": [],
   "source": [
    "param_optimizer = list(model.named_parameters())\n",
    "no_decay = ['bias', 'gamma', 'beta']\n",
    "optimizer_grouped_parameters = [\n",
    "    {'params': [p for n, p in param_optimizer if not any(nd in n for nd in no_decay)],\n",
    "     'weight_decay_rate': 0.01},\n",
    "    {'params': [p for n, p in param_optimizer if any(nd in n for nd in no_decay)],\n",
    "     'weight_decay_rate': 0.0}\n",
    "]\n",
    "loss_fn = nn.CrossEntropyLoss().to(device)\n",
    "optimizer = AdamW(optimizer_grouped_parameters,lr=2e-5)"
   ]
  },
  {
   "cell_type": "code",
   "execution_count": null,
   "id": "2126e66b",
   "metadata": {},
   "outputs": [],
   "source": [
    "def epoch_time(start_time, end_time):\n",
    "  elapsed_time = end_time - start_time\n",
    "  elapsed_mins = int(elapsed_time / 60)\n",
    "  elapsed_secs = int(elapsed_time - (elapsed_mins * 60))\n",
    "  return elapsed_mins, elapsed_secs"
   ]
  },
  {
   "cell_type": "code",
   "execution_count": null,
   "id": "f5e27bc1",
   "metadata": {},
   "outputs": [
    {
     "name": "stderr",
     "output_type": "stream",
     "text": [
      "Epoch:  33%|███▎      | 1/3 [02:03<04:07, 123.57s/it]"
     ]
    },
    {
     "name": "stdout",
     "output_type": "stream",
     "text": [
      "(2, 3)\n",
      "\n",
      "Train loss: 0.2283662238058824\n"
     ]
    },
    {
     "name": "stderr",
     "output_type": "stream",
     "text": [
      "\r\n",
      "Epoch:  67%|██████▋   | 2/3 [04:05<02:02, 122.85s/it]"
     ]
    },
    {
     "name": "stdout",
     "output_type": "stream",
     "text": [
      "(2, 2)\n",
      "\n",
      "Train loss: 0.13915406138572878\n"
     ]
    },
    {
     "name": "stderr",
     "output_type": "stream",
     "text": [
      "Epoch: 100%|██████████| 3/3 [06:07<00:00, 122.64s/it]"
     ]
    },
    {
     "name": "stdout",
     "output_type": "stream",
     "text": [
      "(2, 1)\n",
      "\n",
      "Train loss: 0.0916080219711819\n"
     ]
    },
    {
     "name": "stderr",
     "output_type": "stream",
     "text": [
      "\n"
     ]
    }
   ],
   "source": [
    "epochs = 3\n",
    "train_loss_set = []\n",
    "\n",
    "for _ in trange(epochs, desc=\"Epoch\"):\n",
    "    \n",
    "  start_time = time.time()\n",
    "\n",
    "  model.train()\n",
    "  tr_loss = 0\n",
    "  nb_tr_examples, nb_tr_steps = 0, 0\n",
    "  \n",
    "  for step, batch in enumerate(train_dataloader):\n",
    "    batch = tuple(t.to(device) for t in batch)  \n",
    "    b_input_ids, b_labels = batch\n",
    "    \n",
    "    optimizer.zero_grad()  \n",
    "    outputs = model(b_input_ids)[0]    \n",
    "    loss = loss_fn(outputs,b_labels)\n",
    "    train_loss_set.append(loss.item())    \n",
    "    \n",
    "    loss.backward()\n",
    "    optimizer.step()    \n",
    "    tr_loss += loss.item()\n",
    "    nb_tr_examples += b_input_ids.size(0)\n",
    "    nb_tr_steps += 1\n",
    "    \n",
    "  end_time = time.time()\n",
    "  print(epoch_time(start_time,end_time))\n",
    "  print(\"\\nTrain loss: {}\".format(tr_loss/nb_tr_steps))"
   ]
  },
  {
   "cell_type": "code",
   "execution_count": null,
   "id": "86c936f6",
   "metadata": {},
   "outputs": [],
   "source": [
    "preds = []\n",
    "with torch.no_grad():\n",
    "    correct = 0\n",
    "    total = 0\n",
    "    for i, batch in enumerate(val_dataloader):\n",
    "        batch = tuple(t.to(device) for t in batch)\n",
    "        b_input_ids, b_labels = batch    \n",
    "        outputs = model(b_input_ids)[0]\n",
    "        prediction = torch.argmax(outputs,dim=1)\n",
    "        preds.append(prediction)\n",
    "        total += b_labels.size(0)\n",
    "        correct+=(prediction==b_labels).sum().item()"
   ]
  },
  {
   "cell_type": "code",
   "execution_count": null,
   "id": "43472797",
   "metadata": {},
   "outputs": [
    {
     "name": "stdout",
     "output_type": "stream",
     "text": [
      "              precision    recall  f1-score   support\n",
      "\n",
      "      female       0.91      0.93      0.92       306\n",
      "        male       0.86      0.87      0.86       170\n",
      "      unisex       0.50      0.29      0.37        24\n",
      "\n",
      "    accuracy                           0.88       500\n",
      "   macro avg       0.76      0.70      0.72       500\n",
      "weighted avg       0.87      0.88      0.88       500\n",
      "\n"
     ]
    }
   ],
   "source": [
    "final_preds = []\n",
    "for tensor in preds:\n",
    "    for pred in tensor:\n",
    "        final_preds.append(int(pred))\n",
    "        \n",
    "final_preds = ['female' if i == 0 else \n",
    "               'male' if i == 1 else \n",
    "               'unisex' if i == 2 else \n",
    "                   i for i in final_preds]\n",
    "        \n",
    "print(classification_report(y_dev,final_preds))"
   ]
  },
  {
   "cell_type": "code",
   "execution_count": null,
   "id": "468dfc77",
   "metadata": {},
   "outputs": [],
   "source": []
  },
  {
   "cell_type": "code",
   "execution_count": null,
   "id": "0007fe52",
   "metadata": {},
   "outputs": [],
   "source": []
  },
  {
   "cell_type": "code",
   "execution_count": null,
   "id": "16d75006",
   "metadata": {},
   "outputs": [],
   "source": []
  },
  {
   "cell_type": "code",
   "execution_count": null,
   "id": "8b7b754c",
   "metadata": {},
   "outputs": [],
   "source": []
  },
  {
   "cell_type": "code",
   "execution_count": null,
   "id": "12284992",
   "metadata": {},
   "outputs": [],
   "source": []
  },
  {
   "cell_type": "code",
   "execution_count": null,
   "id": "cd71ce8f",
   "metadata": {},
   "outputs": [],
   "source": []
  },
  {
   "cell_type": "code",
   "execution_count": null,
   "id": "5a63fe61",
   "metadata": {},
   "outputs": [],
   "source": []
  },
  {
   "cell_type": "code",
   "execution_count": null,
   "id": "48f3b110",
   "metadata": {},
   "outputs": [],
   "source": []
  }
 ],
 "metadata": {
  "interpreter": {
   "hash": "b3ba2566441a7c06988d0923437866b63cedc61552a5af99d1f4fb67d367b25f"
  },
  "kernelspec": {
   "display_name": "character-bert",
   "language": "python",
   "name": "python3"
  },
  "language_info": {
   "codemirror_mode": {
    "name": "ipython",
    "version": 3
   },
   "file_extension": ".py",
   "mimetype": "text/x-python",
   "name": "python",
   "nbconvert_exporter": "python",
   "pygments_lexer": "ipython3",
   "version": "3.9.7"
  }
 },
 "nbformat": 4,
 "nbformat_minor": 5
}
